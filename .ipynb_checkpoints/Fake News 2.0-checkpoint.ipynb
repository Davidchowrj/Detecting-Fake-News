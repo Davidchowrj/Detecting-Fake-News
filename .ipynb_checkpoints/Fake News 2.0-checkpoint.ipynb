{
 "cells": [
  {
   "cell_type": "markdown",
   "metadata": {},
   "source": [
    "## 1. Importing Basic Libraries"
   ]
  },
  {
   "cell_type": "code",
   "execution_count": 1,
   "metadata": {},
   "outputs": [],
   "source": [
    "import numpy as np\n",
    "import pandas as pd\n",
    "\n",
    "import nltk\n",
    "\n",
    "from nltk.corpus import stopwords\n",
    "from nltk.tokenize import word_tokenize, sent_tokenize \n",
    "from nltk.tokenize import RegexpTokenizer\n",
    "from nltk.stem import WordNetLemmatizer\n",
    "from nltk import pos_tag\n",
    "from nltk.data import load\n",
    "from collections import Counter\n",
    "from sklearn import svm\n",
    "\n",
    "import string\n",
    "import re\n",
    "\n",
    "import seaborn as sns\n",
    "import matplotlib.pyplot as plt\n"
   ]
  },
  {
   "cell_type": "code",
   "execution_count": 2,
   "metadata": {},
   "outputs": [
    {
     "data": {
      "text/html": [
       "<div>\n",
       "<style scoped>\n",
       "    .dataframe tbody tr th:only-of-type {\n",
       "        vertical-align: middle;\n",
       "    }\n",
       "\n",
       "    .dataframe tbody tr th {\n",
       "        vertical-align: top;\n",
       "    }\n",
       "\n",
       "    .dataframe thead th {\n",
       "        text-align: right;\n",
       "    }\n",
       "</style>\n",
       "<table border=\"1\" class=\"dataframe\">\n",
       "  <thead>\n",
       "    <tr style=\"text-align: right;\">\n",
       "      <th></th>\n",
       "      <th>title</th>\n",
       "      <th>text</th>\n",
       "      <th>subject</th>\n",
       "      <th>date</th>\n",
       "      <th>label</th>\n",
       "    </tr>\n",
       "  </thead>\n",
       "  <tbody>\n",
       "    <tr>\n",
       "      <th>0</th>\n",
       "      <td>Donald Trump Sends Out Embarrassing New Year’...</td>\n",
       "      <td>Donald Trump just couldn t wish all Americans ...</td>\n",
       "      <td>News</td>\n",
       "      <td>December 31, 2017</td>\n",
       "      <td>1</td>\n",
       "    </tr>\n",
       "    <tr>\n",
       "      <th>1</th>\n",
       "      <td>Drunk Bragging Trump Staffer Started Russian ...</td>\n",
       "      <td>House Intelligence Committee Chairman Devin Nu...</td>\n",
       "      <td>News</td>\n",
       "      <td>December 31, 2017</td>\n",
       "      <td>1</td>\n",
       "    </tr>\n",
       "    <tr>\n",
       "      <th>2</th>\n",
       "      <td>Sheriff David Clarke Becomes An Internet Joke...</td>\n",
       "      <td>On Friday, it was revealed that former Milwauk...</td>\n",
       "      <td>News</td>\n",
       "      <td>December 30, 2017</td>\n",
       "      <td>1</td>\n",
       "    </tr>\n",
       "    <tr>\n",
       "      <th>3</th>\n",
       "      <td>Trump Is So Obsessed He Even Has Obama’s Name...</td>\n",
       "      <td>On Christmas day, Donald Trump announced that ...</td>\n",
       "      <td>News</td>\n",
       "      <td>December 29, 2017</td>\n",
       "      <td>1</td>\n",
       "    </tr>\n",
       "    <tr>\n",
       "      <th>4</th>\n",
       "      <td>Pope Francis Just Called Out Donald Trump Dur...</td>\n",
       "      <td>Pope Francis used his annual Christmas Day mes...</td>\n",
       "      <td>News</td>\n",
       "      <td>December 25, 2017</td>\n",
       "      <td>1</td>\n",
       "    </tr>\n",
       "  </tbody>\n",
       "</table>\n",
       "</div>"
      ],
      "text/plain": [
       "                                               title  \\\n",
       "0   Donald Trump Sends Out Embarrassing New Year’...   \n",
       "1   Drunk Bragging Trump Staffer Started Russian ...   \n",
       "2   Sheriff David Clarke Becomes An Internet Joke...   \n",
       "3   Trump Is So Obsessed He Even Has Obama’s Name...   \n",
       "4   Pope Francis Just Called Out Donald Trump Dur...   \n",
       "\n",
       "                                                text subject  \\\n",
       "0  Donald Trump just couldn t wish all Americans ...    News   \n",
       "1  House Intelligence Committee Chairman Devin Nu...    News   \n",
       "2  On Friday, it was revealed that former Milwauk...    News   \n",
       "3  On Christmas day, Donald Trump announced that ...    News   \n",
       "4  Pope Francis used his annual Christmas Day mes...    News   \n",
       "\n",
       "                date  label  \n",
       "0  December 31, 2017      1  \n",
       "1  December 31, 2017      1  \n",
       "2  December 30, 2017      1  \n",
       "3  December 29, 2017      1  \n",
       "4  December 25, 2017      1  "
      ]
     },
     "execution_count": 2,
     "metadata": {},
     "output_type": "execute_result"
    }
   ],
   "source": [
    "# Importing Dataset (.csv)\n",
    "\n",
    "df_fake = pd.read_csv(\"./Dataset/Fake.csv\")\n",
    "df_true = pd.read_csv(\"./Dataset/True.csv\")\n",
    "\n",
    "# Creating labels for each category of fake news\n",
    "\n",
    "df_fake[\"label\"] = 1\n",
    "df_true[\"label\"] = 0\n",
    "\n",
    "\n",
    "df_fake.head()"
   ]
  },
  {
   "cell_type": "code",
   "execution_count": 3,
   "metadata": {},
   "outputs": [
    {
     "data": {
      "text/html": [
       "<div>\n",
       "<style scoped>\n",
       "    .dataframe tbody tr th:only-of-type {\n",
       "        vertical-align: middle;\n",
       "    }\n",
       "\n",
       "    .dataframe tbody tr th {\n",
       "        vertical-align: top;\n",
       "    }\n",
       "\n",
       "    .dataframe thead th {\n",
       "        text-align: right;\n",
       "    }\n",
       "</style>\n",
       "<table border=\"1\" class=\"dataframe\">\n",
       "  <thead>\n",
       "    <tr style=\"text-align: right;\">\n",
       "      <th></th>\n",
       "      <th>title</th>\n",
       "      <th>text</th>\n",
       "      <th>subject</th>\n",
       "      <th>date</th>\n",
       "      <th>label</th>\n",
       "    </tr>\n",
       "  </thead>\n",
       "  <tbody>\n",
       "    <tr>\n",
       "      <th>0</th>\n",
       "      <td>As U.S. budget fight looms, Republicans flip t...</td>\n",
       "      <td>WASHINGTON (Reuters) - The head of a conservat...</td>\n",
       "      <td>politicsNews</td>\n",
       "      <td>December 31, 2017</td>\n",
       "      <td>0</td>\n",
       "    </tr>\n",
       "    <tr>\n",
       "      <th>1</th>\n",
       "      <td>U.S. military to accept transgender recruits o...</td>\n",
       "      <td>WASHINGTON (Reuters) - Transgender people will...</td>\n",
       "      <td>politicsNews</td>\n",
       "      <td>December 29, 2017</td>\n",
       "      <td>0</td>\n",
       "    </tr>\n",
       "    <tr>\n",
       "      <th>2</th>\n",
       "      <td>Senior U.S. Republican senator: 'Let Mr. Muell...</td>\n",
       "      <td>WASHINGTON (Reuters) - The special counsel inv...</td>\n",
       "      <td>politicsNews</td>\n",
       "      <td>December 31, 2017</td>\n",
       "      <td>0</td>\n",
       "    </tr>\n",
       "    <tr>\n",
       "      <th>3</th>\n",
       "      <td>FBI Russia probe helped by Australian diplomat...</td>\n",
       "      <td>WASHINGTON (Reuters) - Trump campaign adviser ...</td>\n",
       "      <td>politicsNews</td>\n",
       "      <td>December 30, 2017</td>\n",
       "      <td>0</td>\n",
       "    </tr>\n",
       "    <tr>\n",
       "      <th>4</th>\n",
       "      <td>Trump wants Postal Service to charge 'much mor...</td>\n",
       "      <td>SEATTLE/WASHINGTON (Reuters) - President Donal...</td>\n",
       "      <td>politicsNews</td>\n",
       "      <td>December 29, 2017</td>\n",
       "      <td>0</td>\n",
       "    </tr>\n",
       "  </tbody>\n",
       "</table>\n",
       "</div>"
      ],
      "text/plain": [
       "                                               title  \\\n",
       "0  As U.S. budget fight looms, Republicans flip t...   \n",
       "1  U.S. military to accept transgender recruits o...   \n",
       "2  Senior U.S. Republican senator: 'Let Mr. Muell...   \n",
       "3  FBI Russia probe helped by Australian diplomat...   \n",
       "4  Trump wants Postal Service to charge 'much mor...   \n",
       "\n",
       "                                                text       subject  \\\n",
       "0  WASHINGTON (Reuters) - The head of a conservat...  politicsNews   \n",
       "1  WASHINGTON (Reuters) - Transgender people will...  politicsNews   \n",
       "2  WASHINGTON (Reuters) - The special counsel inv...  politicsNews   \n",
       "3  WASHINGTON (Reuters) - Trump campaign adviser ...  politicsNews   \n",
       "4  SEATTLE/WASHINGTON (Reuters) - President Donal...  politicsNews   \n",
       "\n",
       "                 date  label  \n",
       "0  December 31, 2017       0  \n",
       "1  December 29, 2017       0  \n",
       "2  December 31, 2017       0  \n",
       "3  December 30, 2017       0  \n",
       "4  December 29, 2017       0  "
      ]
     },
     "execution_count": 3,
     "metadata": {},
     "output_type": "execute_result"
    }
   ],
   "source": [
    "df_true.head()"
   ]
  },
  {
   "cell_type": "markdown",
   "metadata": {},
   "source": [
    "### Combining both datasets into one "
   ]
  },
  {
   "cell_type": "code",
   "execution_count": 4,
   "metadata": {},
   "outputs": [
    {
     "data": {
      "text/html": [
       "<div>\n",
       "<style scoped>\n",
       "    .dataframe tbody tr th:only-of-type {\n",
       "        vertical-align: middle;\n",
       "    }\n",
       "\n",
       "    .dataframe tbody tr th {\n",
       "        vertical-align: top;\n",
       "    }\n",
       "\n",
       "    .dataframe thead th {\n",
       "        text-align: right;\n",
       "    }\n",
       "</style>\n",
       "<table border=\"1\" class=\"dataframe\">\n",
       "  <thead>\n",
       "    <tr style=\"text-align: right;\">\n",
       "      <th></th>\n",
       "      <th>text</th>\n",
       "      <th>label</th>\n",
       "    </tr>\n",
       "  </thead>\n",
       "  <tbody>\n",
       "    <tr>\n",
       "      <th>0</th>\n",
       "      <td>Donald Trump just couldn t wish all Americans ...</td>\n",
       "      <td>1</td>\n",
       "    </tr>\n",
       "    <tr>\n",
       "      <th>1</th>\n",
       "      <td>House Intelligence Committee Chairman Devin Nu...</td>\n",
       "      <td>1</td>\n",
       "    </tr>\n",
       "    <tr>\n",
       "      <th>2</th>\n",
       "      <td>On Friday, it was revealed that former Milwauk...</td>\n",
       "      <td>1</td>\n",
       "    </tr>\n",
       "    <tr>\n",
       "      <th>3</th>\n",
       "      <td>On Christmas day, Donald Trump announced that ...</td>\n",
       "      <td>1</td>\n",
       "    </tr>\n",
       "    <tr>\n",
       "      <th>4</th>\n",
       "      <td>Pope Francis used his annual Christmas Day mes...</td>\n",
       "      <td>1</td>\n",
       "    </tr>\n",
       "  </tbody>\n",
       "</table>\n",
       "</div>"
      ],
      "text/plain": [
       "                                                text  label\n",
       "0  Donald Trump just couldn t wish all Americans ...      1\n",
       "1  House Intelligence Committee Chairman Devin Nu...      1\n",
       "2  On Friday, it was revealed that former Milwauk...      1\n",
       "3  On Christmas day, Donald Trump announced that ...      1\n",
       "4  Pope Francis used his annual Christmas Day mes...      1"
      ]
     },
     "execution_count": 4,
     "metadata": {},
     "output_type": "execute_result"
    }
   ],
   "source": [
    "df = pd.concat([df_fake, df_true])\n",
    "df.shape\n",
    "\n",
    "# Remove irrelevant columns\n",
    "df.drop(['title', 'subject', 'date'], axis=1, inplace=True)\n",
    "\n",
    "\n",
    "# Removing rows with empty text\n",
    "\n",
    "df['text'].dropna(inplace = True)\n",
    "\n",
    "df.head()"
   ]
  },
  {
   "cell_type": "code",
   "execution_count": 5,
   "metadata": {},
   "outputs": [
    {
     "data": {
      "text/plain": [
       "1    23481\n",
       "0    21417\n",
       "Name: label, dtype: int64"
      ]
     },
     "execution_count": 5,
     "metadata": {},
     "output_type": "execute_result"
    }
   ],
   "source": [
    "\n",
    "'''\n",
    "\n",
    "Merged dataset with counts of labelled news where:\n",
    "1 = fake news \n",
    "0 = true news\n",
    "\n",
    "Total n of elemetents = 44,898\n",
    "\n",
    "'''\n",
    "\n",
    "df.label.value_counts(dropna = False)"
   ]
  },
  {
   "cell_type": "code",
   "execution_count": 6,
   "metadata": {},
   "outputs": [
    {
     "data": {
      "text/html": [
       "<div>\n",
       "<style scoped>\n",
       "    .dataframe tbody tr th:only-of-type {\n",
       "        vertical-align: middle;\n",
       "    }\n",
       "\n",
       "    .dataframe tbody tr th {\n",
       "        vertical-align: top;\n",
       "    }\n",
       "\n",
       "    .dataframe thead th {\n",
       "        text-align: right;\n",
       "    }\n",
       "</style>\n",
       "<table border=\"1\" class=\"dataframe\">\n",
       "  <thead>\n",
       "    <tr style=\"text-align: right;\">\n",
       "      <th></th>\n",
       "      <th>text</th>\n",
       "      <th>label</th>\n",
       "    </tr>\n",
       "  </thead>\n",
       "  <tbody>\n",
       "    <tr>\n",
       "      <th>0</th>\n",
       "      <td>Bill Penzey, the owner of Penzeys Spices, wrot...</td>\n",
       "      <td>1</td>\n",
       "    </tr>\n",
       "    <tr>\n",
       "      <th>1</th>\n",
       "      <td>21st Century Wire says The wagon wheels are al...</td>\n",
       "      <td>1</td>\n",
       "    </tr>\n",
       "    <tr>\n",
       "      <th>2</th>\n",
       "      <td>Patrick Henningsen 21st Century WireToday Ame...</td>\n",
       "      <td>1</td>\n",
       "    </tr>\n",
       "    <tr>\n",
       "      <th>3</th>\n",
       "      <td>LOME (Reuters) - Security forces in Togo used ...</td>\n",
       "      <td>0</td>\n",
       "    </tr>\n",
       "    <tr>\n",
       "      <th>4</th>\n",
       "      <td>MANILA (Reuters) - Philippine Maoist rebels de...</td>\n",
       "      <td>0</td>\n",
       "    </tr>\n",
       "    <tr>\n",
       "      <th>5</th>\n",
       "      <td>(Reuters) - Federal appeals courts in the stat...</td>\n",
       "      <td>0</td>\n",
       "    </tr>\n",
       "    <tr>\n",
       "      <th>6</th>\n",
       "      <td>WASHINGTON (Reuters) - Republicans in the U.S....</td>\n",
       "      <td>0</td>\n",
       "    </tr>\n",
       "    <tr>\n",
       "      <th>7</th>\n",
       "      <td>BAGHDAD (Reuters) - Kurdish Peshmerga forces p...</td>\n",
       "      <td>0</td>\n",
       "    </tr>\n",
       "    <tr>\n",
       "      <th>8</th>\n",
       "      <td>This GOP civil war just keeps getting more ent...</td>\n",
       "      <td>1</td>\n",
       "    </tr>\n",
       "    <tr>\n",
       "      <th>9</th>\n",
       "      <td>Earlier this week, audio surfaced of Paul Ryan...</td>\n",
       "      <td>1</td>\n",
       "    </tr>\n",
       "  </tbody>\n",
       "</table>\n",
       "</div>"
      ],
      "text/plain": [
       "                                                text  label\n",
       "0  Bill Penzey, the owner of Penzeys Spices, wrot...      1\n",
       "1  21st Century Wire says The wagon wheels are al...      1\n",
       "2   Patrick Henningsen 21st Century WireToday Ame...      1\n",
       "3  LOME (Reuters) - Security forces in Togo used ...      0\n",
       "4  MANILA (Reuters) - Philippine Maoist rebels de...      0\n",
       "5  (Reuters) - Federal appeals courts in the stat...      0\n",
       "6  WASHINGTON (Reuters) - Republicans in the U.S....      0\n",
       "7  BAGHDAD (Reuters) - Kurdish Peshmerga forces p...      0\n",
       "8  This GOP civil war just keeps getting more ent...      1\n",
       "9  Earlier this week, audio surfaced of Paul Ryan...      1"
      ]
     },
     "execution_count": 6,
     "metadata": {},
     "output_type": "execute_result"
    }
   ],
   "source": [
    "\n",
    "# Shuffle dataframe\n",
    "from sklearn.utils import shuffle\n",
    "df = shuffle(df)\n",
    "df = df.reset_index(drop=True)\n",
    "\n",
    "df.head(10)\n"
   ]
  },
  {
   "cell_type": "markdown",
   "metadata": {},
   "source": [
    "## 2. Dataset Preprocessing"
   ]
  },
  {
   "cell_type": "code",
   "execution_count": 7,
   "metadata": {},
   "outputs": [],
   "source": [
    "\n",
    "'''\n",
    "\n",
    "Preprocessing steps include: \n",
    "1. Removing punctuation\n",
    "2. Converting to lowercase\n",
    "3. Removing stopwords\n",
    "4. Tokenization\n",
    "5. Lemmatizing word tokens\n",
    "\n",
    "'''\n",
    "\n",
    "def process_text (text):\n",
    "    \n",
    "    stopwords = set(nltk.corpus.stopwords.words('english'))\n",
    "    lemm = WordNetLemmatizer()\n",
    "\n",
    "    # Removing Punctuationm\n",
    "    process_text = \"\".join ([char for char in text if char not in string.punctuation])\n",
    "    # Tokenizing Text and converting to lowercase\n",
    "    process_text = re.split('\\W+', text.lower())\n",
    "    # Removing stopwords\n",
    "    process_text = [word for word in process_text if word not in stopwords]\n",
    "    # Lemmatization\n",
    "    process_text = \" \".join ([lemm.lemmatize(i,'v') for i in process_text])\n",
    "    return process_text\n",
    "\n",
    "def tokenize_text(text):\n",
    "    \n",
    "    stopwords = set(nltk.corpus.stopwords.words('english'))\n",
    "    lemm = WordNetLemmatizer()\n",
    "    \n",
    "    # Removing Punctuationm\n",
    "    tokenize_text = \"\".join ([char for char in text if char not in string.punctuation])\n",
    "    # Tokenizing Text and converting to lowercase\n",
    "    tokenize_text = re.split('\\W+', text.lower())\n",
    "    # Removing stopwords\n",
    "    #tokenize_text = [word for word in tokenize_text if word not in stopwords]\n",
    "    join_stopword = (\" \".join(tokenize_text))\n",
    "    return join_stopword"
   ]
  },
  {
   "cell_type": "code",
   "execution_count": 8,
   "metadata": {},
   "outputs": [
    {
     "data": {
      "text/html": [
       "<div>\n",
       "<style scoped>\n",
       "    .dataframe tbody tr th:only-of-type {\n",
       "        vertical-align: middle;\n",
       "    }\n",
       "\n",
       "    .dataframe tbody tr th {\n",
       "        vertical-align: top;\n",
       "    }\n",
       "\n",
       "    .dataframe thead th {\n",
       "        text-align: right;\n",
       "    }\n",
       "</style>\n",
       "<table border=\"1\" class=\"dataframe\">\n",
       "  <thead>\n",
       "    <tr style=\"text-align: right;\">\n",
       "      <th></th>\n",
       "      <th>text</th>\n",
       "      <th>tokenized</th>\n",
       "      <th>cleaned</th>\n",
       "      <th>label</th>\n",
       "    </tr>\n",
       "  </thead>\n",
       "  <tbody>\n",
       "    <tr>\n",
       "      <th>0</th>\n",
       "      <td>Bill Penzey, the owner of Penzeys Spices, wrot...</td>\n",
       "      <td>bill penzey the owner of penzeys spices wrote ...</td>\n",
       "      <td>bill penzey owner penzeys spice write two sepa...</td>\n",
       "      <td>1</td>\n",
       "    </tr>\n",
       "    <tr>\n",
       "      <th>1</th>\n",
       "      <td>21st Century Wire says The wagon wheels are al...</td>\n",
       "      <td>21st century wire says the wagon wheels are al...</td>\n",
       "      <td>21st century wire say wagon wheel already come...</td>\n",
       "      <td>1</td>\n",
       "    </tr>\n",
       "    <tr>\n",
       "      <th>2</th>\n",
       "      <td>Patrick Henningsen 21st Century WireToday Ame...</td>\n",
       "      <td>patrick henningsen 21st century wiretoday ame...</td>\n",
       "      <td>patrick henningsen 21st century wiretoday ame...</td>\n",
       "      <td>1</td>\n",
       "    </tr>\n",
       "    <tr>\n",
       "      <th>3</th>\n",
       "      <td>LOME (Reuters) - Security forces in Togo used ...</td>\n",
       "      <td>lome reuters security forces in togo used bato...</td>\n",
       "      <td>lome reuters security force togo use batons te...</td>\n",
       "      <td>0</td>\n",
       "    </tr>\n",
       "    <tr>\n",
       "      <th>4</th>\n",
       "      <td>MANILA (Reuters) - Philippine Maoist rebels de...</td>\n",
       "      <td>manila reuters philippine maoist rebels declar...</td>\n",
       "      <td>manila reuters philippine maoist rebel declare...</td>\n",
       "      <td>0</td>\n",
       "    </tr>\n",
       "  </tbody>\n",
       "</table>\n",
       "</div>"
      ],
      "text/plain": [
       "                                                text  \\\n",
       "0  Bill Penzey, the owner of Penzeys Spices, wrot...   \n",
       "1  21st Century Wire says The wagon wheels are al...   \n",
       "2   Patrick Henningsen 21st Century WireToday Ame...   \n",
       "3  LOME (Reuters) - Security forces in Togo used ...   \n",
       "4  MANILA (Reuters) - Philippine Maoist rebels de...   \n",
       "\n",
       "                                           tokenized  \\\n",
       "0  bill penzey the owner of penzeys spices wrote ...   \n",
       "1  21st century wire says the wagon wheels are al...   \n",
       "2   patrick henningsen 21st century wiretoday ame...   \n",
       "3  lome reuters security forces in togo used bato...   \n",
       "4  manila reuters philippine maoist rebels declar...   \n",
       "\n",
       "                                             cleaned  label  \n",
       "0  bill penzey owner penzeys spice write two sepa...      1  \n",
       "1  21st century wire say wagon wheel already come...      1  \n",
       "2   patrick henningsen 21st century wiretoday ame...      1  \n",
       "3  lome reuters security force togo use batons te...      0  \n",
       "4  manila reuters philippine maoist rebel declare...      0  "
      ]
     },
     "execution_count": 8,
     "metadata": {},
     "output_type": "execute_result"
    }
   ],
   "source": [
    "df['cleaned'] = df['text'].apply(lambda x: process_text(x))\n",
    "df['tokenized'] = df['text'].apply(lambda x: tokenize_text(x))\n",
    "\n",
    "column_names = [\"text\",\"tokenized\",\"cleaned\",\"label\"]\n",
    "df = df.reindex(columns=column_names)\n",
    "\n",
    "df.head()"
   ]
  },
  {
   "cell_type": "markdown",
   "metadata": {},
   "source": [
    "## 3. Split Test/Train data"
   ]
  },
  {
   "cell_type": "code",
   "execution_count": 9,
   "metadata": {
    "scrolled": false
   },
   "outputs": [
    {
     "name": "stdout",
     "output_type": "stream",
     "text": [
      "(35918,) (8980,) (35918,) (8980,)\n"
     ]
    }
   ],
   "source": [
    "# The dataset shall then be split into train/test data using sklearn \n",
    "# Manipulated variable = 'cleaned' column\n",
    "# Responsiding variable = 'label' ccolumn\n",
    "\n",
    "from sklearn.model_selection import train_test_split\n",
    "\n",
    "x = df.cleaned \n",
    "y = df.label\n",
    "\n",
    "xTrain,xTest,yTrain,yTest = train_test_split(x, y, test_size = 0.2, random_state = 42)\n",
    "\n",
    "print(xTrain.shape, xTest.shape, yTrain.shape, yTest.shape)"
   ]
  },
  {
   "cell_type": "markdown",
   "metadata": {},
   "source": [
    "## 4. Feature Generation\n"
   ]
  },
  {
   "cell_type": "markdown",
   "metadata": {},
   "source": [
    "### 4.1 TF_IDF"
   ]
  },
  {
   "cell_type": "code",
   "execution_count": 10,
   "metadata": {},
   "outputs": [],
   "source": [
    "from sklearn.feature_extraction.text import CountVectorizer\n",
    "from sklearn.feature_extraction.text import TfidfTransformer\n",
    "\n",
    "vect = CountVectorizer()\n",
    "xTrainCounts = vect.fit_transform(xTrain)"
   ]
  },
  {
   "cell_type": "code",
   "execution_count": 11,
   "metadata": {},
   "outputs": [
    {
     "data": {
      "text/plain": [
       "(35918, 99823)"
      ]
     },
     "execution_count": 11,
     "metadata": {},
     "output_type": "execute_result"
    }
   ],
   "source": [
    "tfidf_transformer = TfidfTransformer()\n",
    "xTrainTFIDF = tfidf_transformer.fit_transform(xTrainCounts)\n",
    "xTrainTFIDF.shape"
   ]
  },
  {
   "cell_type": "markdown",
   "metadata": {},
   "source": [
    "### 4.2 POS Tags\n",
    "\n",
    "* Example of tags are listed below: (From the NLTK Universal tagset)\n",
    "\n",
    "\n",
    "\n",
    "| Tag | Meaning | English Examples |\n",
    "| ------------- |:----------------:|:----------------:|\n",
    "| ADJ | adjective | new, good, high, special, big, local |\n",
    "| ADP | adposition  | on, of, at, with, by, into, under |\n",
    "| ADV  | adverb | really, already, still, early, now |\n",
    "| CONJ  | conjunction |  and, or, but, if, while, although  |\n",
    "|  DET | determiner, article  | the, a, some, most, every, no, which  |\n",
    "| NOUN | noun | noun year, home, costs, time, Africa   |\n",
    "| NUM |numeral | twenty-four, fourth, 1991, 14:24  |\n",
    "| PRT  |particle  |  at, on, out, over per, that, up, with   |\n",
    "| PRON | pronoun |   he, their, her, its, my, I, us  |\n",
    "| VERB | verb |  is, say, told, given, playing, would  |\n",
    "| \".\" | punctuation | \" . , ; !\"  |\n",
    "|X | other  | ersatz, esprit, dunno, gr8, univeristy  |\n"
   ]
  },
  {
   "cell_type": "code",
   "execution_count": 12,
   "metadata": {},
   "outputs": [],
   "source": [
    "def pos_tag(text):\n",
    "    postag = nltk.pos_tag(word_tokenize(text),tagset = 'universal')\n",
    "    pos_list = list()\n",
    "    for word in postag:\n",
    "        pos_list.append(word[0] + \"/\" + word[1])\n",
    "    \n",
    "    final = ' '.join(pos_list)\n",
    "    return final\n"
   ]
  },
  {
   "cell_type": "code",
   "execution_count": 13,
   "metadata": {},
   "outputs": [],
   "source": [
    "xTrainPOS = xTrain.apply(pos_tag)"
   ]
  },
  {
   "cell_type": "code",
   "execution_count": 14,
   "metadata": {},
   "outputs": [
    {
     "name": "stdout",
     "output_type": "stream",
     "text": [
      "36335    new/ADJ york/NOUN reuters/NOUN weak/ADJ recent...\n",
      "12384    american/ADJ people/NOUN go/VERB like/ADP real...\n",
      "24419    gop/ADJ presidential/ADJ primary/NOUN hit/VERB...\n",
      "24740    last/ADJ presidential/ADJ debate/NOUN many/ADJ...\n",
      "27039    know/NOUN record/NOUN number/NOUN illegals/NOU...\n",
      "Name: cleaned, dtype: object\n"
     ]
    }
   ],
   "source": [
    "print(xTrainPOS.head())"
   ]
  },
  {
   "cell_type": "markdown",
   "metadata": {},
   "source": [
    "### POS CountVec & TFIDF"
   ]
  },
  {
   "cell_type": "code",
   "execution_count": 15,
   "metadata": {},
   "outputs": [],
   "source": [
    "vect = CountVectorizer()\n",
    "xTrainPOS_Count = vect.fit_transform(xTrainPOS)\n",
    "#xTestPOS_Count = vect.transform(xTestPOS)"
   ]
  },
  {
   "cell_type": "code",
   "execution_count": 16,
   "metadata": {},
   "outputs": [
    {
     "data": {
      "text/plain": [
       "(35918, 99826)"
      ]
     },
     "execution_count": 16,
     "metadata": {},
     "output_type": "execute_result"
    }
   ],
   "source": [
    "tfidf_transformer = TfidfTransformer()\n",
    "xTrainPOS_Tfidf = tfidf_transformer.fit_transform(xTrainPOS_Count)\n",
    "#xTestPOS_Tfidf = tfidf_transformer.transform(xTestPOS_Count)\n",
    "xTrainPOS_Tfidf.shape"
   ]
  },
  {
   "cell_type": "markdown",
   "metadata": {},
   "source": [
    "### 4.3 N-Grams"
   ]
  },
  {
   "cell_type": "markdown",
   "metadata": {},
   "source": [
    "Fitting on the training set and transforming on the training and test set assures that:\n",
    " - given a word, the word is correctly always mapped on the same column, both in the training and test set. "
   ]
  },
  {
   "cell_type": "code",
   "execution_count": 17,
   "metadata": {},
   "outputs": [
    {
     "data": {
      "text/plain": [
       "['00 00',\n",
       " '00 00 pm',\n",
       " '00 00pm',\n",
       " '00 00pm learn',\n",
       " '00 0500',\n",
       " '00 0500 gmt',\n",
       " '00 0700',\n",
       " '00 0700 gmt',\n",
       " '00 0721',\n",
       " '00 0721 edt',\n",
       " '00 0800',\n",
       " '00 0800 gmt',\n",
       " '00 09',\n",
       " '00 09 occupiers',\n",
       " '00 09 subject',\n",
       " '00 11',\n",
       " '00 11 march',\n",
       " '00 12',\n",
       " '00 12 compatriot',\n",
       " '00 1200',\n",
       " '00 1200 gmt',\n",
       " '00 1600',\n",
       " '00 1600 gmt',\n",
       " '00 18',\n",
       " '00 18 00',\n",
       " '00 1800',\n",
       " '00 1800 gmt',\n",
       " '00 1931',\n",
       " '00 1931 est',\n",
       " '00 201',\n",
       " '00 201 000',\n",
       " '00 22',\n",
       " '00 22 ampresident',\n",
       " '00 40',\n",
       " '00 40 gmt',\n",
       " '00 accord',\n",
       " '00 accord police',\n",
       " '00 add',\n",
       " '00 add trump',\n",
       " '00 address',\n",
       " '00 address real',\n",
       " '00 afternoon',\n",
       " '00 afternoon saturday',\n",
       " '00 also',\n",
       " '00 also schedule',\n",
       " '00 american',\n",
       " '00 american consumers',\n",
       " '00 announcement',\n",
       " '00 announcement vp',\n",
       " '00 balance',\n",
       " '00 balance show',\n",
       " '00 bedminster',\n",
       " '00 bedminster 0711',\n",
       " '00 bill',\n",
       " '00 bill clinton',\n",
       " '00 california',\n",
       " '00 california congresswoman',\n",
       " '00 clinton',\n",
       " '00 clinton make',\n",
       " '00 clock',\n",
       " '00 clock noon',\n",
       " '00 cnn',\n",
       " '00 cnn stelter',\n",
       " '00 comment',\n",
       " '00 comment public',\n",
       " '00 couple',\n",
       " '00 couple different',\n",
       " '00 cst',\n",
       " '00 cst monday',\n",
       " '00 day',\n",
       " '00 day single',\n",
       " '00 decoder',\n",
       " '00 decoder box',\n",
       " '00 department',\n",
       " '00 department justice',\n",
       " '00 directors',\n",
       " '00 directors john',\n",
       " '00 donald',\n",
       " '00 donald trump',\n",
       " '00 east',\n",
       " '00 east coast',\n",
       " '00 eastern',\n",
       " '00 eastern sarah',\n",
       " '00 eastern standard',\n",
       " '00 edtthe',\n",
       " '00 edtthe full',\n",
       " '00 enjoy',\n",
       " '00 enjoy 0548',\n",
       " '00 est',\n",
       " '00 est morning',\n",
       " '00 et',\n",
       " '00 et domestic',\n",
       " '00 et monday',\n",
       " '00 et sharif',\n",
       " '00 et wreaths',\n",
       " '00 even',\n",
       " '00 even vow',\n",
       " '00 event',\n",
       " '00 event detail',\n",
       " '00 evidence',\n",
       " '00 evidence sessions',\n",
       " '00 excite',\n",
       " '00 excite go',\n",
       " '00 feature',\n",
       " '00 feature image',\n",
       " '00 feed',\n",
       " '00 feed activity',\n",
       " '00 final',\n",
       " '00 final result',\n",
       " '00 gallon',\n",
       " '00 gallon areas',\n",
       " '00 gallon average',\n",
       " '00 gallon gasoline',\n",
       " '00 gallon look',\n",
       " '00 gallon still',\n",
       " '00 gmt',\n",
       " '00 gmt nato',\n",
       " '00 gmt tuesday',\n",
       " '00 go',\n",
       " '00 go hannity',\n",
       " '00 group',\n",
       " '00 group condemnation',\n",
       " '00 hire',\n",
       " '00 hire graduate',\n",
       " '00 hour',\n",
       " '00 hour appearance',\n",
       " '00 hour bernie',\n",
       " '00 hour protesters',\n",
       " '00 hour say',\n",
       " '00 immigration',\n",
       " '00 immigration agents',\n",
       " '00 instead',\n",
       " '00 instead 40',\n",
       " '00 irfan',\n",
       " '00 irfan detain',\n",
       " '00 job',\n",
       " '00 job presidential',\n",
       " '00 july',\n",
       " '00 july 17',\n",
       " '00 late',\n",
       " '00 late september',\n",
       " '00 local',\n",
       " '00 local 0800',\n",
       " '00 local time',\n",
       " '00 look',\n",
       " '00 look 700',\n",
       " '00 march',\n",
       " '00 march 29',\n",
       " '00 mark',\n",
       " '00 mark america',\n",
       " '00 mark comment',\n",
       " '00 mark cost',\n",
       " '00 mark fbi',\n",
       " '00 mark feature',\n",
       " '00 mark ingraham',\n",
       " '00 mark kerry',\n",
       " '00 mark mick',\n",
       " '00 mark souza',\n",
       " '00 mark speak',\n",
       " '00 mark trump',\n",
       " '00 mark video',\n",
       " '00 meanwhile',\n",
       " '00 meanwhile trump',\n",
       " '00 meet',\n",
       " '00 meet expect',\n",
       " '00 midnight',\n",
       " '00 midnight earliest',\n",
       " '00 minute',\n",
       " '00 minute mark',\n",
       " '00 monday',\n",
       " '00 monday seriously',\n",
       " '00 month',\n",
       " '00 month 2014',\n",
       " '00 month family',\n",
       " '00 month get',\n",
       " '00 month september',\n",
       " '00 morning',\n",
       " '00 morning amateur',\n",
       " '00 morning construction',\n",
       " '00 morning driver',\n",
       " '00 move',\n",
       " '00 move temporary',\n",
       " '00 nasdaq',\n",
       " '00 nasdaq nasdaq',\n",
       " '00 national',\n",
       " '00 national multi',\n",
       " '00 nettildn',\n",
       " '00 nettildn point',\n",
       " '00 news',\n",
       " '00 news conference',\n",
       " '00 night',\n",
       " '00 night remainder',\n",
       " '00 night tell',\n",
       " '00 october',\n",
       " '00 october 24',\n",
       " '00 official',\n",
       " '00 official count',\n",
       " '00 one',\n",
       " '00 one judgment',\n",
       " '00 part',\n",
       " '00 part cruz',\n",
       " '00 pdt',\n",
       " '00 pdt wear',\n",
       " '00 per',\n",
       " '00 per copy',\n",
       " '00 per violation',\n",
       " '00 percent',\n",
       " '00 percent 25',\n",
       " '00 phone',\n",
       " '00 phone interview',\n",
       " '00 pm',\n",
       " '00 pm cst',\n",
       " '00 pm ensure',\n",
       " '00 pm est',\n",
       " '00 pm et',\n",
       " '00 pm include',\n",
       " '00 pm liberal',\n",
       " '00 pm local',\n",
       " '00 pm medals',\n",
       " '00 pm open',\n",
       " '00 pm personal',\n",
       " '00 pm pst',\n",
       " '00 pm respect',\n",
       " '00 pm saturday',\n",
       " '00 pm shut',\n",
       " '00 pm successful',\n",
       " '00 pm tribute',\n",
       " '00 pm wednesday',\n",
       " '00 point',\n",
       " '00 point hear',\n",
       " '00 point take',\n",
       " '00 point video',\n",
       " '00 politicians',\n",
       " '00 politicians talk',\n",
       " '00 press',\n",
       " '00 press conference',\n",
       " '00 previous',\n",
       " '00 previous report',\n",
       " '00 pst',\n",
       " '00 pst california',\n",
       " '00 read',\n",
       " '00 read politico',\n",
       " '00 saturday',\n",
       " '00 saturday village',\n",
       " '00 schedule',\n",
       " '00 schedule suddenly',\n",
       " '00 school',\n",
       " '00 school charge',\n",
       " '00 see',\n",
       " '00 see delivery',\n",
       " '00 several',\n",
       " '00 several store',\n",
       " '00 short',\n",
       " '00 short film',\n",
       " '00 spokesman',\n",
       " '00 spokesman meade',\n",
       " '00 stand',\n",
       " '00 stand 72',\n",
       " '00 story',\n",
       " '00 story report',\n",
       " '00 sunday',\n",
       " '00 sunday june',\n",
       " '00 swear',\n",
       " '00 swear movement',\n",
       " '00 teach',\n",
       " '00 teach one',\n",
       " '00 thursday',\n",
       " '00 thursday april',\n",
       " '00 time',\n",
       " '00 time please',\n",
       " '00 today',\n",
       " '00 today police',\n",
       " '00 today west',\n",
       " '00 town',\n",
       " '00 town millis',\n",
       " '00 transportation',\n",
       " '00 transportation obama',\n",
       " '00 tribute',\n",
       " '00 tribute 57',\n",
       " '00 truck',\n",
       " '00 truck drive',\n",
       " '00 trust',\n",
       " '00 trust science',\n",
       " '00 tuesday',\n",
       " '00 tuesday january',\n",
       " '00 tuesday president',\n",
       " '00 tuition',\n",
       " '00 tuition per',\n",
       " '00 tweet',\n",
       " '00 tweet stuff',\n",
       " '00 twitter',\n",
       " '00 twitter rant',\n",
       " '00 unlimited',\n",
       " '00 unlimited medical',\n",
       " '00 update',\n",
       " '00 update may',\n",
       " '00 way',\n",
       " '00 way would',\n",
       " '00 well',\n",
       " '00 well name',\n",
       " '00 white',\n",
       " '00 white house',\n",
       " '00 word',\n",
       " '00 word many',\n",
       " '00 would',\n",
       " '00 would spend',\n",
       " '00 year',\n",
       " '00 year old',\n",
       " '000 00',\n",
       " '000 00 clinton',\n",
       " '000 00 national',\n",
       " '000 00 per',\n",
       " '000 00 politicians',\n",
       " '000 00 read',\n",
       " '000 00 teach',\n",
       " '000 000',\n",
       " '000 000 00',\n",
       " '000 000 000',\n",
       " '000 000 001',\n",
       " '000 000 12',\n",
       " '000 000 800',\n",
       " '000 000 additional',\n",
       " '000 000 adults',\n",
       " '000 000 afghani',\n",
       " '000 000 american',\n",
       " '000 000 americans',\n",
       " '000 000 baby',\n",
       " '000 000 bond',\n",
       " '000 000 case',\n",
       " '000 000 charity',\n",
       " '000 000 city',\n",
       " '000 000 coalition',\n",
       " '000 000 compensation',\n",
       " '000 000 deeper',\n",
       " '000 000 donald',\n",
       " '000 000 employees',\n",
       " '000 000 expect',\n",
       " '000 000 facebook',\n",
       " '000 000 fighters',\n",
       " '000 000 foundation',\n",
       " '000 000 get',\n",
       " '000 000 grow',\n",
       " '000 000 half',\n",
       " '000 000 israeli',\n",
       " '000 000 jihadis',\n",
       " '000 000 less',\n",
       " '000 000 libyan',\n",
       " '000 000 many',\n",
       " '000 000 marines',\n",
       " '000 000 mexican',\n",
       " '000 000 next',\n",
       " '000 000 people',\n",
       " '000 000 per',\n",
       " '000 000 personnel',\n",
       " '000 000 peter',\n",
       " '000 000 plant',\n",
       " '000 000 police',\n",
       " '000 000 pour',\n",
       " '000 000 previously',\n",
       " '000 000 prove',\n",
       " '000 000 ratio',\n",
       " '000 000 rohingya',\n",
       " '000 000 say',\n",
       " '000 000 senate',\n",
       " '000 000 soldier',\n",
       " '000 000 state',\n",
       " '000 000 students',\n",
       " '000 000 talk',\n",
       " '000 000 tax',\n",
       " '000 000 taxpayer',\n",
       " '000 000 terrorists',\n",
       " '000 000 total',\n",
       " '000 000 troop',\n",
       " '000 000 trump',\n",
       " '000 000 vote',\n",
       " '000 000 western',\n",
       " '000 001',\n",
       " '000 001 000',\n",
       " '000 10',\n",
       " '000 10 000',\n",
       " '000 10 000m',\n",
       " '000 10 140',\n",
       " '000 10 million',\n",
       " '000 10 percent',\n",
       " '000 100',\n",
       " '000 100 000',\n",
       " '000 100 brother',\n",
       " '000 100 sell',\n",
       " '000 11',\n",
       " '000 11 699',\n",
       " '000 110',\n",
       " '000 110 000',\n",
       " '000 119',\n",
       " '000 119 deaths',\n",
       " '000 12',\n",
       " '000 12 000',\n",
       " '000 12 600',\n",
       " '000 12 700',\n",
       " '000 12 days',\n",
       " '000 12 month',\n",
       " '000 12 months',\n",
       " '000 12 percent',\n",
       " '000 120',\n",
       " '000 120 000',\n",
       " '000 127',\n",
       " '000 127 000',\n",
       " '000 13',\n",
       " '000 13 500',\n",
       " '000 146',\n",
       " '000 146 000',\n",
       " '000 147',\n",
       " '000 147 340',\n",
       " '000 15',\n",
       " '000 15 000',\n",
       " '000 150',\n",
       " '000 150 000',\n",
       " '000 150 countries',\n",
       " '000 16',\n",
       " '000 16 million',\n",
       " '000 161',\n",
       " '000 161 000',\n",
       " '000 164',\n",
       " '000 164 000',\n",
       " '000 165',\n",
       " '000 165 000',\n",
       " '000 17',\n",
       " '000 17 000',\n",
       " '000 17 fy2016',\n",
       " '000 170',\n",
       " '000 170 pesos',\n",
       " '000 180',\n",
       " '000 180 000',\n",
       " '000 1960s',\n",
       " '000 1960s fall',\n",
       " '000 1960s mexico',\n",
       " '000 1983',\n",
       " '000 1983 african',\n",
       " '000 1990',\n",
       " '000 1990 muslim',\n",
       " '000 1998',\n",
       " '000 1998 trip',\n",
       " '000 1b',\n",
       " '000 1b visa',\n",
       " '000 20',\n",
       " '000 20 000',\n",
       " '000 20 percent',\n",
       " '000 20 post',\n",
       " '000 200',\n",
       " '000 200 000',\n",
       " '000 200 backers',\n",
       " '000 200 respectively',\n",
       " '000 2000',\n",
       " '000 2000 substantial',\n",
       " '000 2001',\n",
       " '000 2001 344',\n",
       " '000 2001 nearly',\n",
       " '000 2002',\n",
       " '000 2002 2004',\n",
       " '000 2003',\n",
       " '000 2003 foundation',\n",
       " '000 2004',\n",
       " '000 2004 2006',\n",
       " '000 2004 june',\n",
       " '000 2005',\n",
       " '000 2005 2011',\n",
       " '000 2007',\n",
       " '000 2007 crime',\n",
       " '000 2008',\n",
       " '000 2008 accord',\n",
       " '000 2008 island',\n",
       " '000 2009',\n",
       " '000 2009 322',\n",
       " '000 2009 accord',\n",
       " '000 2009 alone',\n",
       " '000 2009 effective',\n",
       " '000 2010',\n",
       " '000 2010 83',\n",
       " '000 2010 another',\n",
       " '000 2010 census',\n",
       " '000 2010 presence',\n",
       " '000 2011',\n",
       " '000 2011 accord',\n",
       " '000 2011 army',\n",
       " '000 2011 new',\n",
       " '000 2011 nicholson',\n",
       " '000 2012',\n",
       " '000 2012 trump',\n",
       " '000 2013',\n",
       " '000 2013 14',\n",
       " '000 2013 2014',\n",
       " '000 2013 2015',\n",
       " '000 2013 des',\n",
       " '000 2013 disparity',\n",
       " '000 2013 malik',\n",
       " '000 2013 raise',\n",
       " '000 2013 tax',\n",
       " '000 2014',\n",
       " '000 2014 compare',\n",
       " '000 2014 data',\n",
       " '000 2014 las',\n",
       " '000 2014 unite',\n",
       " '000 2014 violence',\n",
       " '000 2015',\n",
       " '000 2015 39',\n",
       " '000 2015 cope',\n",
       " '000 2015 drop',\n",
       " '000 2015 speak',\n",
       " '000 2015 virginia',\n",
       " '000 2015 volts',\n",
       " '000 2016',\n",
       " '000 2016 100',\n",
       " '000 2016 160',\n",
       " '000 2016 17',\n",
       " '000 2016 accord',\n",
       " '000 2016 administration',\n",
       " '000 2016 asylum',\n",
       " '000 2016 close',\n",
       " '000 2016 compare',\n",
       " '000 2016 isis',\n",
       " '000 2016 labor',\n",
       " '000 2016 many',\n",
       " '000 2016 thousands',\n",
       " '000 2017',\n",
       " '000 2017 18',\n",
       " '000 2017 aid',\n",
       " '000 2017 alawa',\n",
       " '000 2017 cities',\n",
       " '000 2017 fiscal',\n",
       " '000 2017 say',\n",
       " '000 2018',\n",
       " '000 2018 lowest',\n",
       " '000 2018 say',\n",
       " '000 2021',\n",
       " '000 2021 recommend',\n",
       " '000 2030',\n",
       " '000 2030 accord',\n",
       " '000 2035',\n",
       " '000 2035 word',\n",
       " '000 21',\n",
       " '000 21 000',\n",
       " '000 210',\n",
       " '000 210 000',\n",
       " '000 22',\n",
       " '000 22 000',\n",
       " '000 220',\n",
       " '000 220 000',\n",
       " '000 225',\n",
       " '000 225 000',\n",
       " '000 23',\n",
       " '000 23 percent',\n",
       " '000 230',\n",
       " '000 230 000',\n",
       " '000 238',\n",
       " '000 238 tech',\n",
       " '000 239',\n",
       " '000 239 0000',\n",
       " '000 24',\n",
       " '000 24 2015',\n",
       " '000 24 hours',\n",
       " '000 246',\n",
       " '000 246 000',\n",
       " '000 24k',\n",
       " '000 24k gold',\n",
       " '000 25',\n",
       " '000 25 000',\n",
       " '000 25 percent',\n",
       " '000 250',\n",
       " '000 250 000',\n",
       " '000 26',\n",
       " '000 26 percent',\n",
       " '000 260',\n",
       " '000 260 000',\n",
       " '000 27',\n",
       " '000 27 000',\n",
       " '000 271',\n",
       " '000 271 000',\n",
       " '000 274',\n",
       " '000 274 000',\n",
       " '000 29',\n",
       " '000 29 000',\n",
       " '000 290',\n",
       " '000 290 000',\n",
       " '000 2a',\n",
       " '000 2a visa',\n",
       " '000 30',\n",
       " '000 30 000',\n",
       " '000 30 second',\n",
       " '000 300',\n",
       " '000 300 000',\n",
       " '000 300 individuals',\n",
       " '000 31',\n",
       " '000 31 million',\n",
       " '000 328',\n",
       " '000 328 000',\n",
       " '000 33',\n",
       " '000 33 600',\n",
       " '000 34',\n",
       " '000 34 000',\n",
       " '000 340',\n",
       " '000 340 000',\n",
       " '000 35',\n",
       " '000 35 000',\n",
       " '000 35 percent',\n",
       " '000 35 year',\n",
       " '000 350',\n",
       " '000 350 000',\n",
       " '000 350 individuals',\n",
       " '000 36',\n",
       " '000 36 007',\n",
       " '000 36 percent',\n",
       " '000 40',\n",
       " '000 40 000',\n",
       " '000 40 campaign',\n",
       " '000 40 syrians',\n",
       " '000 400',\n",
       " '000 400 000',\n",
       " '000 400 cash',\n",
       " '000 406',\n",
       " '000 406 554',\n",
       " '000 41',\n",
       " '000 41 000',\n",
       " '000 41 percent',\n",
       " '000 43',\n",
       " '000 43 percent',\n",
       " '000 440',\n",
       " '000 440 fin',\n",
       " '000 45',\n",
       " '000 45 000',\n",
       " '000 455',\n",
       " '000 455 000',\n",
       " '000 46',\n",
       " '000 46 435',\n",
       " '000 475',\n",
       " '000 475 000',\n",
       " '000 486',\n",
       " '000 486 000',\n",
       " '000 49',\n",
       " '000 49 000',\n",
       " '000 50',\n",
       " '000 50 000',\n",
       " '000 500',\n",
       " '000 500 000',\n",
       " '000 500 agents',\n",
       " '000 500 decade',\n",
       " '000 500 families',\n",
       " '000 500 ticket',\n",
       " '000 501',\n",
       " '000 501 organizations',\n",
       " '000 540',\n",
       " '000 540 000',\n",
       " '000 55',\n",
       " '000 55 000',\n",
       " '000 5k',\n",
       " '000 5k setup',\n",
       " '000 60',\n",
       " '000 60 000',\n",
       " '000 60 miles',\n",
       " '000 600',\n",
       " '000 600 000',\n",
       " '000 600 km',\n",
       " '000 65',\n",
       " '000 65 000',\n",
       " '000 66',\n",
       " '000 66 800',\n",
       " '000 66 days',\n",
       " '000 69',\n",
       " '000 69 million',\n",
       " '000 70',\n",
       " '000 70 000',\n",
       " '000 700',\n",
       " '000 700 000',\n",
       " '000 700 announce',\n",
       " '000 700 statement',\n",
       " '000 71',\n",
       " '000 71 000',\n",
       " '000 715',\n",
       " '000 715 000',\n",
       " '000 72',\n",
       " '000 72 000',\n",
       " '000 730',\n",
       " '000 730 000',\n",
       " '000 78',\n",
       " '000 78 percent',\n",
       " '000 80',\n",
       " '000 80 000',\n",
       " '000 800',\n",
       " '000 800 000',\n",
       " '000 81',\n",
       " '000 81 000',\n",
       " '000 85',\n",
       " '000 85 000',\n",
       " '000 90',\n",
       " '000 90 000',\n",
       " '000 900',\n",
       " '000 900 000',\n",
       " '000 904',\n",
       " '000 904 000',\n",
       " '000 91',\n",
       " '000 91 percent',\n",
       " '000 94',\n",
       " '000 94 000',\n",
       " '000 abandon',\n",
       " '000 abandon house',\n",
       " '000 able',\n",
       " '000 able top',\n",
       " '000 abortions',\n",
       " '000 abortions 103',\n",
       " '000 abortions marie',\n",
       " '000 academic',\n",
       " '000 academic partnerships',\n",
       " '000 academics',\n",
       " '000 academics accuse',\n",
       " '000 academics bali',\n",
       " '000 academics include',\n",
       " '000 access',\n",
       " '000 access high',\n",
       " '000 accidents',\n",
       " '000 accidents first',\n",
       " '000 accord',\n",
       " '000 accord another',\n",
       " '000 accord archive',\n",
       " '000 accord arm',\n",
       " '000 accord baltimore',\n",
       " '000 accord bureau',\n",
       " '000 accord census',\n",
       " '000 accord copy',\n",
       " '000 accord cost',\n",
       " '000 accord court',\n",
       " '000 accord crowdpac',\n",
       " '000 accord disclosures',\n",
       " '000 accord dod',\n",
       " '000 accord file',\n",
       " '000 accord newly',\n",
       " '000 accord paperwork',\n",
       " '000 accord pew',\n",
       " '000 accord police',\n",
       " '000 accord politico',\n",
       " '000 accord record',\n",
       " '000 accord release',\n",
       " '000 accord report',\n",
       " '000 accord sonoma',\n",
       " '000 accord tax',\n",
       " '000 accord travel',\n",
       " '000 accord unhcr',\n",
       " '000 accord washington',\n",
       " '000 accord website',\n",
       " '000 account',\n",
       " '000 account associate',\n",
       " '000 account hold',\n",
       " '000 account impact',\n",
       " '000 account many',\n",
       " '000 account sexual',\n",
       " '000 account threaten',\n",
       " '000 account twitter',\n",
       " '000 account warner',\n",
       " '000 acre',\n",
       " '000 acre area',\n",
       " '000 acre camp',\n",
       " '000 acre gold',\n",
       " '000 acre luxury',\n",
       " '000 acre property',\n",
       " '000 acre site',\n",
       " '000 acres',\n",
       " '000 acres 23',\n",
       " '000 acres 400',\n",
       " '000 acres across',\n",
       " '000 acres beijing',\n",
       " '000 acres forest',\n",
       " '000 acres land',\n",
       " '000 acres map',\n",
       " '000 acres number',\n",
       " '000 acres ownerless',\n",
       " '000 acres percent',\n",
       " '000 acres public',\n",
       " '000 acres reclaim',\n",
       " '000 acres size',\n",
       " '000 acres southeastern',\n",
       " '000 across',\n",
       " '000 across border',\n",
       " '000 across country',\n",
       " '000 across europe',\n",
       " '000 across mississippi',\n",
       " '000 action',\n",
       " '000 action could',\n",
       " '000 active',\n",
       " '000 active duty',\n",
       " '000 active members',\n",
       " '000 active retire',\n",
       " '000 active service',\n",
       " '000 active traders',\n",
       " '000 activists',\n",
       " '000 activists break',\n",
       " '000 activists meet',\n",
       " '000 activists tehreek',\n",
       " '000 activists white',\n",
       " '000 actual',\n",
       " '000 actual government',\n",
       " '000 ad',\n",
       " '000 ad buy',\n",
       " '000 ad spend',\n",
       " '000 add',\n",
       " '000 add trump',\n",
       " '000 addition',\n",
       " '000 addition help',\n",
       " '000 additional',\n",
       " '000 additional 182',\n",
       " '000 additional coalition',\n",
       " '000 additional customs',\n",
       " '000 additional document',\n",
       " '000 additional enrollments',\n",
       " '000 additional home',\n",
       " '000 additional ice',\n",
       " '000 additional incidents',\n",
       " '000 additional people',\n",
       " '000 additional recipients',\n",
       " '000 additional refugees',\n",
       " '000 additional security',\n",
       " '000 additional state',\n",
       " '000 additional superintendent',\n",
       " '000 additional taxpayer',\n",
       " '000 additional troop',\n",
       " '000 address',\n",
       " '000 address june',\n",
       " '000 adherents',\n",
       " '000 adherents live',\n",
       " '000 administration',\n",
       " '000 administration say',\n",
       " '000 administrative',\n",
       " '000 administrative fee',\n",
       " '000 admit',\n",
       " '000 admit fiscal',\n",
       " '000 admit graphic',\n",
       " '000 admit iraq',\n",
       " '000 admit myanmar',\n",
       " '000 admit unite',\n",
       " '000 adrian',\n",
       " '000 adrian edwards',\n",
       " '000 ads',\n",
       " '000 ads 470',\n",
       " '000 ads connect',\n",
       " '000 ads divisive',\n",
       " '000 ads facebook',\n",
       " '000 ads include',\n",
       " '000 ads june',\n",
       " '000 ads learn',\n",
       " '000 ads pay',\n",
       " '000 ads television',\n",
       " '000 adults',\n",
       " '000 adults april',\n",
       " '000 adults costume',\n",
       " '000 adults find',\n",
       " '000 adults last',\n",
       " '000 adults nationwide',\n",
       " '000 adults non',\n",
       " '000 adults transverse',\n",
       " '000 advance',\n",
       " '000 advance medical',\n",
       " '000 advertise',\n",
       " '000 advertise attack',\n",
       " '000 advertise campaign',\n",
       " '000 advisers',\n",
       " '000 advisers military',\n",
       " '000 affiliate',\n",
       " '000 affiliate church',\n",
       " '000 affiliate managers',\n",
       " '000 afford',\n",
       " '000 afford 50',\n",
       " '000 affordable',\n",
       " '000 affordable home',\n",
       " '000 afghani',\n",
       " '000 afghani 690',\n",
       " '000 afghani earn',\n",
       " '000 afghanistan',\n",
       " '000 afghanistan 11',\n",
       " '000 afghans',\n",
       " '000 afghans already',\n",
       " '000 african',\n",
       " '000 african americans',\n",
       " '000 afrikaner',\n",
       " '000 afrikaner prisoners',\n",
       " '000 aftershocks',\n",
       " '000 aftershocks since',\n",
       " '000 age',\n",
       " '000 age five',\n",
       " '000 agency',\n",
       " '000 agency lyndon',\n",
       " '000 agents',\n",
       " '000 agents already',\n",
       " '000 agricultural',\n",
       " '000 agricultural products',\n",
       " '000 agricultural workers',\n",
       " '000 agriculture',\n",
       " '000 agriculture department',\n",
       " '000 ahead',\n",
       " '000 ahead event',\n",
       " '000 air',\n",
       " '000 air force',\n",
       " '000 air traffic',\n",
       " '000 air transportation',\n",
       " '000 air travel',\n",
       " '000 airline',\n",
       " '000 airline passengers',\n",
       " '000 airmen',\n",
       " '000 airmen president',\n",
       " '000 airstrikes',\n",
       " '000 airstrikes isis',\n",
       " '000 alabama',\n",
       " '000 alabama million',\n",
       " '000 alabama power',\n",
       " '000 alabama republican',\n",
       " '000 albanian',\n",
       " '000 albanian civilians',\n",
       " '000 algerians',\n",
       " '000 algerians give',\n",
       " '000 alien',\n",
       " '000 alien 2012',\n",
       " '000 alien catch',\n",
       " '000 allege',\n",
       " '000 allege communists',\n",
       " '000 allege donors',\n",
       " '000 allege druglords',\n",
       " '000 allege president',\n",
       " '000 allege strategic',\n",
       " '000 allegedly',\n",
       " '000 allegedly 33',\n",
       " '000 allegedly low',\n",
       " '000 allegedly unexplained',\n",
       " '000 allow',\n",
       " '000 allow earn',\n",
       " '000 allow stay',\n",
       " '000 ally',\n",
       " '000 ally troop',\n",
       " '000 almost',\n",
       " '000 almost million',\n",
       " '000 alone',\n",
       " '000 alone go',\n",
       " '000 alone since',\n",
       " '000 along',\n",
       " '000 along yalu',\n",
       " '000 already',\n",
       " '000 already guarantee',\n",
       " '000 already lose',\n",
       " '000 already private',\n",
       " '000 already raise',\n",
       " '000 already spend',\n",
       " '000 also',\n",
       " '000 also 22',\n",
       " '000 also debate',\n",
       " '000 also forgo',\n",
       " '000 also rely',\n",
       " '000 also say',\n",
       " '000 also time',\n",
       " '000 alternative',\n",
       " '000 alternative legal',\n",
       " '000 aluminium',\n",
       " '000 aluminium mill',\n",
       " '000 american',\n",
       " '000 american adults',\n",
       " '000 american camp',\n",
       " '000 american citizens',\n",
       " '000 american flag',\n",
       " '000 american force',\n",
       " '000 american home',\n",
       " '000 american institute',\n",
       " '000 american job',\n",
       " '000 american live',\n",
       " '000 american project',\n",
       " '000 american servicemen',\n",
       " '000 american soldier',\n",
       " '000 american taxpayers',\n",
       " '000 american troop',\n",
       " '000 american women',\n",
       " '000 american workers',\n",
       " '000 americans',\n",
       " '000 americans allow',\n",
       " '000 americans already',\n",
       " '000 americans die',\n",
       " '000 americans employ',\n",
       " '000 americans fire',\n",
       " '000 americans germany',\n",
       " '000 americans kill',\n",
       " '000 americans labor',\n",
       " '000 americans leave',\n",
       " '000 americans lose',\n",
       " '000 americans many',\n",
       " '000 americans millions',\n",
       " '000 americans mr',\n",
       " '000 americans participate',\n",
       " '000 americans perish',\n",
       " '000 americans respond',\n",
       " '000 americans show',\n",
       " '000 americans sign',\n",
       " '000 americans way',\n",
       " '000 americans year',\n",
       " '000 amid',\n",
       " '000 amid arab',\n",
       " '000 amount',\n",
       " '000 amount grant',\n",
       " '000 amount lifetime',\n",
       " '000 analysts',\n",
       " ...]"
      ]
     },
     "execution_count": 17,
     "metadata": {},
     "output_type": "execute_result"
    }
   ],
   "source": [
    "vect = CountVectorizer(ngram_range=(2,3))\n",
    "xTrainNgram = vect.fit_transform(xTrain)\n",
    "vect.get_feature_names()"
   ]
  },
  {
   "cell_type": "markdown",
   "metadata": {},
   "source": [
    "## 5. Modelling\n",
    "\n"
   ]
  },
  {
   "cell_type": "markdown",
   "metadata": {},
   "source": [
    "### 5.1 Evaluation Metrics \n",
    "\n",
    "Several evaluation metrices shall be used:\n",
    "1. Model Score (Accuracy)\n",
    "1. Precision Score\n",
    "1. F1- Score \n",
    "1. Recall Score"
   ]
  },
  {
   "cell_type": "code",
   "execution_count": 18,
   "metadata": {},
   "outputs": [],
   "source": [
    "## Function to plot confusion matrix using matplot\n",
    "def plot_confusion_matrix(cm,classes,normalize=False,title='Confusion Matrix',cmap=plt.cm.Blues):\n",
    "    plt.imshow(cm, interpolation='nearest', cmap=cmap)\n",
    "    plt.title(title)\n",
    "    plt.colorbar()\n",
    "    tick_marks = np.arange(len(classes))\n",
    "    plt.xticks(tick_marks, classes, rotation=45)\n",
    "    plt.yticks(tick_marks, classes)\n",
    "\n",
    "    if normalize:\n",
    "        cm = cm.astype('float') / cm.sum(axis=1)[:, np.newaxis]\n",
    "        print(\"Normalized confusion matrix\")\n",
    "    else:\n",
    "        print('Confusion matrix, without normalization')\n",
    "\n",
    "    thresh = cm.max() / 2.\n",
    "    for i, j in itertools.product(range(cm.shape[0]), range(cm.shape[1])):\n",
    "        plt.text(j, i, cm[i, j],\n",
    "                 horizontalalignment=\"center\",\n",
    "                 color=\"white\" if cm[i, j] > thresh else \"black\")\n",
    "\n",
    "    plt.tight_layout()\n",
    "    plt.ylabel('True label')\n",
    "    plt.xlabel('Predicted label')"
   ]
  },
  {
   "cell_type": "code",
   "execution_count": 19,
   "metadata": {},
   "outputs": [],
   "source": [
    "from sklearn.metrics import classification_report, confusion_matrix,f1_score, precision_score, recall_score\n",
    "from sklearn import metrics "
   ]
  },
  {
   "cell_type": "markdown",
   "metadata": {},
   "source": [
    "## 5.2 TFIDF"
   ]
  },
  {
   "cell_type": "markdown",
   "metadata": {},
   "source": [
    "### 1. Logistic Regression"
   ]
  },
  {
   "cell_type": "code",
   "execution_count": 20,
   "metadata": {},
   "outputs": [],
   "source": [
    "from sklearn.feature_extraction.text import CountVectorizer\n",
    "from sklearn.feature_extraction.text import TfidfTransformer\n",
    "from sklearn.pipeline import Pipeline \n",
    "from sklearn.linear_model import LogisticRegression\n",
    "import itertools"
   ]
  },
  {
   "cell_type": "code",
   "execution_count": 21,
   "metadata": {},
   "outputs": [
    {
     "name": "stdout",
     "output_type": "stream",
     "text": [
      "Accuracy: 98.53%\n",
      "Precision: 0.9819629889903959\n",
      "Recall: 0.9837312486794845\n",
      "Confusion Matrix \n",
      " [[4192   55]\n",
      " [  77 4656]]\n",
      "              precision    recall  f1-score   support\n",
      "\n",
      "           0       0.98      0.99      0.98      4247\n",
      "           1       0.99      0.98      0.99      4733\n",
      "\n",
      "    accuracy                           0.99      8980\n",
      "   macro avg       0.99      0.99      0.99      8980\n",
      "weighted avg       0.99      0.99      0.99      8980\n",
      "\n",
      "Confusion matrix, without normalization\n"
     ]
    },
    {
     "data": {
      "image/png": "[encoded data removed]",
      "text/plain": [
       "<Figure size 432x288 with 2 Axes>"
      ]
     },
     "metadata": {
      "needs_background": "light"
     },
     "output_type": "display_data"
    }
   ],
   "source": [
    "TFIDF_LRPipeline = Pipeline([('vect', CountVectorizer()),\n",
    "                 ('tfidf', TfidfTransformer()),\n",
    "                 ('clf', LogisticRegression())])\n",
    "\n",
    "model = TFIDF_LRPipeline.fit(xTrain, yTrain)\n",
    "yPredict = model.predict(xTest)\n",
    "\n",
    "\n",
    "# Evaluation Metrics\n",
    "cm = confusion_matrix (yTest, yPredict)\n",
    "print(\"Accuracy: {}%\".format(round(metrics.accuracy_score(yTest, yPredict)*100,2)))\n",
    "print(\"Precision:\", metrics.precision_score(yTest, yPredict, pos_label=0))\n",
    "print(\"Recall:\", metrics.recall_score(yTest, yPredict))\n",
    "\n",
    "\n",
    "print (\"Confusion Matrix \\n\", cm)\n",
    "print(classification_report(yTest, yPredict))\n",
    "plot_confusion_matrix(cm,classes=['FAKE(1)','TRUE(0)'])"
   ]
  },
  {
   "cell_type": "markdown",
   "metadata": {},
   "source": [
    "### 2. SVM"
   ]
  },
  {
   "cell_type": "code",
   "execution_count": 22,
   "metadata": {},
   "outputs": [
    {
     "name": "stdout",
     "output_type": "stream",
     "text": [
      "Accuracy: 99.32%\n",
      "Precision: 0.9917763157894737\n",
      "Recall: 0.9926051130361293\n",
      "Confusion Matrix \n",
      " [[4221   26]\n",
      " [  35 4698]]\n",
      "              precision    recall  f1-score   support\n",
      "\n",
      "           0       0.99      0.99      0.99      4247\n",
      "           1       0.99      0.99      0.99      4733\n",
      "\n",
      "    accuracy                           0.99      8980\n",
      "   macro avg       0.99      0.99      0.99      8980\n",
      "weighted avg       0.99      0.99      0.99      8980\n",
      "\n",
      "Confusion matrix, without normalization\n"
     ]
    },
    {
     "data": {
      "image/png": "[encoded data removed]",
      "text/plain": [
       "<Figure size 432x288 with 2 Axes>"
      ]
     },
     "metadata": {
      "needs_background": "light"
     },
     "output_type": "display_data"
    }
   ],
   "source": [
    "from sklearn.svm import SVC, LinearSVC\n",
    "\n",
    "TFIDF_SVCPipeline = Pipeline([('vect', CountVectorizer()),\n",
    "                 ('tfidf', TfidfTransformer()),\n",
    "                 ('clf', LinearSVC())])\n",
    "\n",
    "model = TFIDF_SVCPipeline.fit(xTrain, yTrain)\n",
    "yPredict = model.predict(xTest)\n",
    "\n",
    "cm = confusion_matrix (yTest, yPredict)\n",
    "print(\"Accuracy: {}%\".format(round(metrics.accuracy_score(yTest, yPredict)*100,2)))\n",
    "print(\"Precision:\", metrics.precision_score(yTest, yPredict, pos_label=0))\n",
    "print(\"Recall:\", metrics.recall_score(yTest, yPredict))\n",
    "\n",
    "print (\"Confusion Matrix \\n\", cm)\n",
    "print(classification_report(yTest, yPredict))\n",
    "plot_confusion_matrix(cm,classes=['FAKE(1)','TRUE(0)'])"
   ]
  },
  {
   "cell_type": "markdown",
   "metadata": {},
   "source": [
    "### 3. NB"
   ]
  },
  {
   "cell_type": "code",
   "execution_count": 23,
   "metadata": {},
   "outputs": [
    {
     "name": "stdout",
     "output_type": "stream",
     "text": [
      "Accuracy: 93.44%\n",
      "Precision: 0.9342355175688509\n",
      "Recall: 0.9414747517430805\n",
      "Confusion Matrix \n",
      " [[3935  312]\n",
      " [ 277 4456]]\n",
      "              precision    recall  f1-score   support\n",
      "\n",
      "           0       0.93      0.93      0.93      4247\n",
      "           1       0.93      0.94      0.94      4733\n",
      "\n",
      "    accuracy                           0.93      8980\n",
      "   macro avg       0.93      0.93      0.93      8980\n",
      "weighted avg       0.93      0.93      0.93      8980\n",
      "\n",
      "Confusion matrix, without normalization\n"
     ]
    },
    {
     "data": {
      "image/png": "[encoded data removed]",
      "text/plain": [
       "<Figure size 432x288 with 2 Axes>"
      ]
     },
     "metadata": {
      "needs_background": "light"
     },
     "output_type": "display_data"
    }
   ],
   "source": [
    "from sklearn.naive_bayes import MultinomialNB\n",
    "\n",
    "TFIDF_NBPipeline = Pipeline([('vect', CountVectorizer()),\n",
    "                 ('tfidf', TfidfTransformer()),\n",
    "                 ('clf', MultinomialNB())])\n",
    "\n",
    "model = TFIDF_NBPipeline.fit(xTrain, yTrain)\n",
    "yPredict = model.predict(xTest)\n",
    "\n",
    "cm = confusion_matrix (yTest, yPredict)\n",
    "print(\"Accuracy: {}%\".format(round(metrics.accuracy_score(yTest, yPredict)*100,2)))\n",
    "print(\"Precision:\", metrics.precision_score(yTest, yPredict, pos_label=0))\n",
    "print(\"Recall:\", metrics.recall_score(yTest, yPredict))\n",
    "\n",
    "print (\"Confusion Matrix \\n\", cm)\n",
    "print(classification_report(yTest, yPredict))\n",
    "plot_confusion_matrix(cm,classes=['FAKE(1)','TRUE(0)'])"
   ]
  },
  {
   "cell_type": "markdown",
   "metadata": {},
   "source": [
    "## 5.3 Ngrams"
   ]
  },
  {
   "cell_type": "markdown",
   "metadata": {},
   "source": [
    "### 1. Logistic Regression"
   ]
  },
  {
   "cell_type": "code",
   "execution_count": 24,
   "metadata": {},
   "outputs": [
    {
     "name": "stdout",
     "output_type": "stream",
     "text": [
      "Accuracy: 98.37%\n",
      "Precision: 0.9800983376258487\n",
      "Recall: 0.9820409888020283\n",
      "Confusion Matrix \n",
      " [[4186   61]\n",
      " [  85 4648]]\n",
      "              precision    recall  f1-score   support\n",
      "\n",
      "           0       0.98      0.99      0.98      4247\n",
      "           1       0.99      0.98      0.98      4733\n",
      "\n",
      "    accuracy                           0.98      8980\n",
      "   macro avg       0.98      0.98      0.98      8980\n",
      "weighted avg       0.98      0.98      0.98      8980\n",
      "\n",
      "Confusion matrix, without normalization\n"
     ]
    },
    {
     "data": {
      "image/png": "[encoded data removed]",
      "text/plain": [
       "<Figure size 432x288 with 2 Axes>"
      ]
     },
     "metadata": {
      "needs_background": "light"
     },
     "output_type": "display_data"
    }
   ],
   "source": [
    "NGRAM_LRPipeline = Pipeline([('ngramvect', vect),\n",
    "                 ('tfidf', TfidfTransformer()),\n",
    "                ('clf', LogisticRegression())])\n",
    "\n",
    "model = NGRAM_LRPipeline.fit(xTrain, yTrain)\n",
    "\n",
    "yPredict = model.predict(xTest)\n",
    "\n",
    "cm = confusion_matrix (yTest, yPredict)\n",
    "print(\"Accuracy: {}%\".format(round(metrics.accuracy_score(yTest, yPredict)*100,2)))\n",
    "print(\"Precision:\", metrics.precision_score(yTest, yPredict, pos_label=0))\n",
    "print(\"Recall:\", metrics.recall_score(yTest, yPredict))\n",
    "\n",
    "\n",
    "print (\"Confusion Matrix \\n\", cm)\n",
    "print(classification_report(yTest, yPredict))\n",
    "plot_confusion_matrix(cm,classes=['FAKE(1)','TRUE(0)'])"
   ]
  },
  {
   "cell_type": "markdown",
   "metadata": {},
   "source": [
    "### 2. SVM"
   ]
  },
  {
   "cell_type": "code",
   "execution_count": 25,
   "metadata": {},
   "outputs": [
    {
     "name": "stdout",
     "output_type": "stream",
     "text": [
      "Accuracy: 98.95%\n",
      "Precision: 0.9850502219107685\n",
      "Recall: 0.9864779209803507\n",
      "Confusion Matrix \n",
      " [[4217   30]\n",
      " [  64 4669]]\n",
      "              precision    recall  f1-score   support\n",
      "\n",
      "           0       0.99      0.99      0.99      4247\n",
      "           1       0.99      0.99      0.99      4733\n",
      "\n",
      "    accuracy                           0.99      8980\n",
      "   macro avg       0.99      0.99      0.99      8980\n",
      "weighted avg       0.99      0.99      0.99      8980\n",
      "\n",
      "Confusion matrix, without normalization\n"
     ]
    },
    {
     "data": {
      "image/png": "[encoded data removed]",
      "text/plain": [
       "<Figure size 432x288 with 2 Axes>"
      ]
     },
     "metadata": {
      "needs_background": "light"
     },
     "output_type": "display_data"
    }
   ],
   "source": [
    "NGRAM_SVMPipeline = Pipeline([('vect', CountVectorizer(ngram_range=(2,3))),\n",
    "                 ('tfidf', TfidfTransformer()),\n",
    "                 ('clf', LinearSVC())])\n",
    "\n",
    "model = NGRAM_SVMPipeline.fit(xTrain, yTrain)\n",
    "yPredict = model.predict(xTest)\n",
    "\n",
    "cm = confusion_matrix (yTest, yPredict)\n",
    "print(\"Accuracy: {}%\".format(round(metrics.accuracy_score(yTest, yPredict)*100,2)))\n",
    "print(\"Precision:\", metrics.precision_score(yTest, yPredict, pos_label=0))\n",
    "print(\"Recall:\", metrics.recall_score(yTest, yPredict))\n",
    "\n",
    "print (\"Confusion Matrix \\n\", cm)\n",
    "print(classification_report(yTest, yPredict))\n",
    "plot_confusion_matrix(cm,classes=['FAKE(1)','TRUE(0)'])"
   ]
  },
  {
   "cell_type": "code",
   "execution_count": 26,
   "metadata": {},
   "outputs": [],
   "source": [
    "#model = LinearSVC()\n",
    "#SVMModel = model.fit(xTrainNgram, yTrain)\n",
    "\n",
    "#yPredict = SVMModel.predict(vect.transform(xTest))\n",
    "\n",
    "#cm = confusion_matrix (yTest, yPredict)\n",
    "#print(\"Accuracy: {}%\".format(round(metrics.accuracy_score(yTest, yPredict)*100,2)))\n",
    "#print(\"Precision:\", metrics.precision_score(yTest, yPredict, pos_label=0))\n",
    "#print(\"Recall:\", metrics.recall_score(yTest, yPredict))\n",
    "\n",
    "#print (\"Confusion Matrix \\n\", cm)\n",
    "#print(classification_report(yTest, yPredict) )"
   ]
  },
  {
   "cell_type": "markdown",
   "metadata": {},
   "source": [
    "### 3. NB"
   ]
  },
  {
   "cell_type": "code",
   "execution_count": 27,
   "metadata": {},
   "outputs": [
    {
     "name": "stdout",
     "output_type": "stream",
     "text": [
      "Accuracy: 97.69%\n",
      "Precision: 0.9652233993551359\n",
      "Recall: 0.968096344813015\n",
      "Confusion Matrix \n",
      " [[4191   56]\n",
      " [ 151 4582]]\n",
      "              precision    recall  f1-score   support\n",
      "\n",
      "           0       0.97      0.99      0.98      4247\n",
      "           1       0.99      0.97      0.98      4733\n",
      "\n",
      "    accuracy                           0.98      8980\n",
      "   macro avg       0.98      0.98      0.98      8980\n",
      "weighted avg       0.98      0.98      0.98      8980\n",
      "\n",
      "Confusion matrix, without normalization\n"
     ]
    },
    {
     "data": {
      "image/png": "[encoded data removed]",
      "text/plain": [
       "<Figure size 432x288 with 2 Axes>"
      ]
     },
     "metadata": {
      "needs_background": "light"
     },
     "output_type": "display_data"
    }
   ],
   "source": [
    "NGRAM_NBPipeline = Pipeline([('vect', CountVectorizer(ngram_range=(2,3) )),\n",
    "                 ('tfidf', TfidfTransformer()),\n",
    "                ('clf', MultinomialNB())])\n",
    "\n",
    "model = NGRAM_NBPipeline.fit(xTrain,yTrain)\n",
    "yPredict = model.predict(xTest)\n",
    "\n",
    "\n",
    "cm = confusion_matrix (yTest, yPredict)\n",
    "print(\"Accuracy: {}%\".format(round(metrics.accuracy_score(yTest, yPredict)*100,2)))\n",
    "print(\"Precision:\", metrics.precision_score(yTest, yPredict, pos_label=0))\n",
    "print(\"Recall:\", metrics.recall_score(yTest, yPredict))\n",
    "\n",
    "print (\"Confusion Matrix \\n\", cm)\n",
    "print(classification_report(yTest, yPredict))\n",
    "plot_confusion_matrix(cm,classes=['FAKE(1)','TRUE(0)'])"
   ]
  },
  {
   "cell_type": "code",
   "execution_count": 28,
   "metadata": {},
   "outputs": [],
   "source": [
    "#model = MultinomialNB()\n",
    "#NBModel = model.fit(xTrainNgram, yTrain)\n",
    "\n",
    "#yPredict = NBModel.predict(vect.transform(xTest))\n",
    "#\n",
    "#cm = confusion_matrix (yTest, yPredict)\n",
    "#print(\"Accuracy: {}%\".format(round(metrics.accuracy_score(yTest, yPredict)*100,2)))\n",
    "#print(\"Precision:\", metrics.precision_score(yTest, yPredict, pos_label=0))\n",
    "#print(\"Recall:\", metrics.recall_score(yTest, yPredict))\n",
    "\n",
    "#print (\"Confusion Matrix \\n\", cm)\n",
    "#print(classification_report(yTest, yPredict))"
   ]
  },
  {
   "cell_type": "markdown",
   "metadata": {},
   "source": [
    "## 5.4 POS Tags"
   ]
  },
  {
   "cell_type": "markdown",
   "metadata": {},
   "source": [
    "### 1. Logistic Regression"
   ]
  },
  {
   "cell_type": "code",
   "execution_count": 29,
   "metadata": {},
   "outputs": [
    {
     "name": "stdout",
     "output_type": "stream",
     "text": [
      "Accuracy: 91.83%\n",
      "Precision: 0.9968882602545969\n",
      "Recall: 0.9976758926684978\n",
      "Confusion Matrix \n",
      " [[3524  723]\n",
      " [  11 4722]]\n",
      "              precision    recall  f1-score   support\n",
      "\n",
      "           0       1.00      0.83      0.91      4247\n",
      "           1       0.87      1.00      0.93      4733\n",
      "\n",
      "    accuracy                           0.92      8980\n",
      "   macro avg       0.93      0.91      0.92      8980\n",
      "weighted avg       0.93      0.92      0.92      8980\n",
      "\n",
      "Confusion matrix, without normalization\n"
     ]
    },
    {
     "data": {
      "image/png": "[encoded data removed]",
      "text/plain": [
       "<Figure size 432x288 with 2 Axes>"
      ]
     },
     "metadata": {
      "needs_background": "light"
     },
     "output_type": "display_data"
    }
   ],
   "source": [
    "POS_LRPipeline = Pipeline([('vect', CountVectorizer()),\n",
    "                 ('tfidf', TfidfTransformer()),\n",
    "                 ('clf', LogisticRegression(max_iter=1000))])\n",
    "\n",
    "model = POS_LRPipeline.fit(xTrainPOS,yTrain)\n",
    "yPredict = model.predict(xTest)\n",
    "\n",
    "cm = confusion_matrix (yTest, yPredict)\n",
    "print(\"Accuracy: {}%\".format(round(metrics.accuracy_score(yTest, yPredict)*100,2)))\n",
    "print(\"Precision:\", metrics.precision_score(yTest, yPredict, pos_label=0))\n",
    "print(\"Recall:\", metrics.recall_score(yTest, yPredict))\n",
    "\n",
    "print (\"Confusion Matrix \\n\", cm)\n",
    "print(classification_report(yTest, yPredict))\n",
    "plot_confusion_matrix(cm,classes=['FAKE(1)','TRUE(0)'])"
   ]
  },
  {
   "cell_type": "markdown",
   "metadata": {},
   "source": [
    "### 2. SVM"
   ]
  },
  {
   "cell_type": "code",
   "execution_count": 30,
   "metadata": {},
   "outputs": [
    {
     "name": "stdout",
     "output_type": "stream",
     "text": [
      "Accuracy: 96.74%\n",
      "Precision: 0.9984871406959153\n",
      "Recall: 0.9987323050919079\n",
      "Confusion Matrix \n",
      " [[3960  287]\n",
      " [   6 4727]]\n",
      "              precision    recall  f1-score   support\n",
      "\n",
      "           0       1.00      0.93      0.96      4247\n",
      "           1       0.94      1.00      0.97      4733\n",
      "\n",
      "    accuracy                           0.97      8980\n",
      "   macro avg       0.97      0.97      0.97      8980\n",
      "weighted avg       0.97      0.97      0.97      8980\n",
      "\n",
      "Confusion matrix, without normalization\n"
     ]
    },
    {
     "data": {
      "image/png": "[encoded data removed]",
      "text/plain": [
       "<Figure size 432x288 with 2 Axes>"
      ]
     },
     "metadata": {
      "needs_background": "light"
     },
     "output_type": "display_data"
    }
   ],
   "source": [
    "POS_SVMPipeline = Pipeline([('vect', CountVectorizer()),\n",
    "                 ('tfidf', TfidfTransformer()),\n",
    "                 ('clf', LinearSVC())])\n",
    "\n",
    "model = POS_SVMPipeline.fit(xTrainPOS,yTrain)\n",
    "yPredict = model.predict(xTest)\n",
    "\n",
    "cm = confusion_matrix (yTest, yPredict)\n",
    "print(\"Accuracy: {}%\".format(round(metrics.accuracy_score(yTest, yPredict)*100,2)))\n",
    "print(\"Precision:\", metrics.precision_score(yTest, yPredict, pos_label=0))\n",
    "print(\"Recall:\", metrics.recall_score(yTest, yPredict))\n",
    "\n",
    "print (\"Confusion Matrix \\n\", cm)\n",
    "print(classification_report(yTest, yPredict))\n",
    "plot_confusion_matrix(cm,classes=['FAKE(1)','TRUE(0)'])"
   ]
  },
  {
   "cell_type": "markdown",
   "metadata": {},
   "source": [
    "### 3. NB"
   ]
  },
  {
   "cell_type": "code",
   "execution_count": 31,
   "metadata": {},
   "outputs": [
    {
     "name": "stdout",
     "output_type": "stream",
     "text": [
      "Accuracy: 93.07%\n",
      "Precision: 0.9355924056717135\n",
      "Recall: 0.9433762941052187\n",
      "Confusion Matrix \n",
      " [[3893  354]\n",
      " [ 268 4465]]\n",
      "              precision    recall  f1-score   support\n",
      "\n",
      "           0       0.94      0.92      0.93      4247\n",
      "           1       0.93      0.94      0.93      4733\n",
      "\n",
      "    accuracy                           0.93      8980\n",
      "   macro avg       0.93      0.93      0.93      8980\n",
      "weighted avg       0.93      0.93      0.93      8980\n",
      "\n",
      "Confusion matrix, without normalization\n"
     ]
    },
    {
     "data": {
      "image/png": "[encoded data removed]",
      "text/plain": [
       "<Figure size 432x288 with 2 Axes>"
      ]
     },
     "metadata": {
      "needs_background": "light"
     },
     "output_type": "display_data"
    }
   ],
   "source": [
    "POS_NBPipeline = Pipeline([('vect', CountVectorizer()),\n",
    "                 ('tfidf', TfidfTransformer()),\n",
    "                 ('clf', MultinomialNB())])\n",
    "\n",
    "model = POS_NBPipeline.fit(xTrainPOS,yTrain)\n",
    "yPredict = model.predict(xTest)\n",
    "\n",
    "cm = confusion_matrix (yTest, yPredict)\n",
    "print(\"Accuracy: {}%\".format(round(metrics.accuracy_score(yTest, yPredict)*100,2)))\n",
    "print(\"Precision:\", metrics.precision_score(yTest, yPredict, pos_label=0))\n",
    "print(\"Recall:\", metrics.recall_score(yTest, yPredict))\n",
    "\n",
    "print (\"Confusion Matrix \\n\", cm)\n",
    "print(classification_report(yTest, yPredict))\n",
    "plot_confusion_matrix(cm,classes=['FAKE(1)','TRUE(0)'])"
   ]
  },
  {
   "cell_type": "markdown",
   "metadata": {},
   "source": [
    "# 6. Model Validation"
   ]
  },
  {
   "cell_type": "code",
   "execution_count": 32,
   "metadata": {},
   "outputs": [],
   "source": [
    "from sklearn.model_selection import cross_val_score, StratifiedKFold, KFold\n",
    "\n",
    "folds = KFold(n_splits= 10)"
   ]
  },
  {
   "cell_type": "code",
   "execution_count": 33,
   "metadata": {},
   "outputs": [],
   "source": [
    "def cv_score(model,x,y,):\n",
    "    scores = cross_val_score(model(),x,y, cv = folds, scoring = 'accuracy') # cv (kfolds) = 10\n",
    "    #print (f'Mean Accuracy cv score:  {scores.mean()}')\n",
    "    print(\"Accuracy: %0.2f (+/- %0.2f)\" % (scores.mean(), scores.std() * 2))\n",
    "    "
   ]
  },
  {
   "cell_type": "code",
   "execution_count": 34,
   "metadata": {},
   "outputs": [],
   "source": [
    "def cv_scores(model,x,y,*abc):\n",
    "    scores = cross_val_score(model(*abc),x,y, cv = folds, scoring = 'accuracy') # cv (kfolds) = 10\n",
    "    #print (f'Mean Accuracy cv score:  {scores.mean()}')\n",
    "    print (scores.std())\n",
    "    "
   ]
  },
  {
   "cell_type": "code",
   "execution_count": 35,
   "metadata": {},
   "outputs": [
    {
     "name": "stdout",
     "output_type": "stream",
     "text": [
      "TFIDF\n",
      "Accuracy: 0.99 (+/- 0.00)\n",
      "Accuracy: 0.99 (+/- 0.00)\n",
      "Accuracy: 0.93 (+/- 0.01)\n",
      "\n",
      "\n",
      "NGRAM\n",
      "Accuracy: 0.98 (+/- 0.00)\n"
     ]
    },
    {
     "name": "stderr",
     "output_type": "stream",
     "text": [
      "C:\\ProgramData\\Anaconda3\\lib\\site-packages\\sklearn\\svm\\_base.py:977: ConvergenceWarning: Liblinear failed to converge, increase the number of iterations.\n",
      "  \"the number of iterations.\", ConvergenceWarning)\n"
     ]
    },
    {
     "name": "stdout",
     "output_type": "stream",
     "text": [
      "Accuracy: 0.97 (+/- 0.00)\n",
      "Accuracy: 0.98 (+/- 0.01)\n",
      "\n",
      "\n",
      "POS Tag\n",
      "Accuracy: 0.98 (+/- 0.01)\n",
      "Accuracy: 0.99 (+/- 0.00)\n",
      "Accuracy: 0.93 (+/- 0.01)\n",
      "Wall time: 15min 31s\n"
     ]
    }
   ],
   "source": [
    "%%time\n",
    "\n",
    "#SVMclf = LinearSVC(max_iter = 2000)\n",
    "\n",
    "print (\"TFIDF\")\n",
    "cv_score(LogisticRegression,xTrainTFIDF,yTrain)\n",
    "cv_score(LinearSVC,xTrainTFIDF,yTrain)\n",
    "cv_score(MultinomialNB,xTrainTFIDF,yTrain)\n",
    "print(\"\\n\")\n",
    "\n",
    "print (\"NGRAM\" ) \n",
    "cv_score(LogisticRegression,xTrainNgram,yTrain)\n",
    "#cv_score(SVMclf,xTrainNgram,yTrain,)\n",
    "cv_score(MultinomialNB,xTrainNgram,yTrain,)\n",
    "print(\"\\n\")\n",
    "\n",
    "print (\"POS Tag\" ) \n",
    "cv_score(LogisticRegression,xTrainPOS_Tfidf,yTrain)\n",
    "cv_score(LinearSVC,xTrainPOS_Tfidf,yTrain)\n",
    "cv_score(MultinomialNB,xTrainPOS_Tfidf,yTrain)"
   ]
  },
  {
   "cell_type": "code",
   "execution_count": null,
   "metadata": {},
   "outputs": [],
   "source": [
    "\n",
    "SVMclf = LinearSVC(max_iter = 2000)\n",
    "\n",
    "cv_score(SVMclf,xTrainNgram,yTrain,)"
   ]
  },
  {
   "cell_type": "markdown",
   "metadata": {},
   "source": [
    "# 7. Testing on Other Dataset"
   ]
  },
  {
   "cell_type": "code",
   "execution_count": 36,
   "metadata": {},
   "outputs": [],
   "source": [
    "# Importing FNN BuzzFeed dataset(.csv)\n",
    "\n",
    "FNN_fake = pd.read_csv(\"./Dataset/BuzzFeed_fake_news_content.csv\")\n",
    "FNN_true = pd.read_csv(\"./Dataset/BuzzFeed_real_news_content.csv\")\n",
    "\n",
    "    # Creating labels for each category of fake news\n",
    "\n",
    "FNN_fake[\"label\"] = 1\n",
    "FNN_true[\"label\"] = 0"
   ]
  },
  {
   "cell_type": "code",
   "execution_count": 37,
   "metadata": {},
   "outputs": [],
   "source": [
    "FNN_df = pd.concat([FNN_fake, FNN_true])\n",
    "\n",
    "FNN_df['combined_text'] = FNN_df ['title']  + FNN_df['text']\n",
    "\n",
    "# Remove irrelevant columns\n",
    "FNN_df.drop(['id','url','top_img', 'authors','source','publish_date','movies','images','canonical_link','meta_data'], axis=1, inplace=True)\n",
    "\n",
    "# Removing rows with empty text\n",
    "\n",
    "FNN_df['text'].dropna(inplace = True)"
   ]
  },
  {
   "cell_type": "code",
   "execution_count": 38,
   "metadata": {},
   "outputs": [
    {
     "data": {
      "text/plain": [
       "1    91\n",
       "0    91\n",
       "Name: label, dtype: int64"
      ]
     },
     "execution_count": 38,
     "metadata": {},
     "output_type": "execute_result"
    }
   ],
   "source": [
    "FNN_df.label.value_counts(dropna = False)"
   ]
  },
  {
   "cell_type": "code",
   "execution_count": 39,
   "metadata": {},
   "outputs": [
    {
     "data": {
      "text/html": [
       "<div>\n",
       "<style scoped>\n",
       "    .dataframe tbody tr th:only-of-type {\n",
       "        vertical-align: middle;\n",
       "    }\n",
       "\n",
       "    .dataframe tbody tr th {\n",
       "        vertical-align: top;\n",
       "    }\n",
       "\n",
       "    .dataframe thead th {\n",
       "        text-align: right;\n",
       "    }\n",
       "</style>\n",
       "<table border=\"1\" class=\"dataframe\">\n",
       "  <thead>\n",
       "    <tr style=\"text-align: right;\">\n",
       "      <th></th>\n",
       "      <th>title</th>\n",
       "      <th>text</th>\n",
       "      <th>combined_text</th>\n",
       "      <th>cleaned</th>\n",
       "      <th>label</th>\n",
       "    </tr>\n",
       "  </thead>\n",
       "  <tbody>\n",
       "    <tr>\n",
       "      <th>0</th>\n",
       "      <td>Donald Trump's rise puts Ted Cruz in a bind</td>\n",
       "      <td>Story highlights Ted Cruz refused to endorse T...</td>\n",
       "      <td>Donald Trump's rise puts Ted Cruz in a bindSto...</td>\n",
       "      <td>donald trump rise put ted cruz bindstory highl...</td>\n",
       "      <td>0</td>\n",
       "    </tr>\n",
       "    <tr>\n",
       "      <th>1</th>\n",
       "      <td>Obama weighs in on the debate</td>\n",
       "      <td>Obama weighs in on the debate\\n\\nPresident Bar...</td>\n",
       "      <td>Obama weighs in on the debateObama weighs in o...</td>\n",
       "      <td>obama weigh debateobama weigh debate president...</td>\n",
       "      <td>0</td>\n",
       "    </tr>\n",
       "    <tr>\n",
       "      <th>2</th>\n",
       "      <td>Obama: Refugee crisis is test of our humanity</td>\n",
       "      <td>United Nations (CNN) President Barack Obama ma...</td>\n",
       "      <td>Obama: Refugee crisis is test of our humanityU...</td>\n",
       "      <td>obama refugee crisis test humanityunited natio...</td>\n",
       "      <td>0</td>\n",
       "    </tr>\n",
       "    <tr>\n",
       "      <th>3</th>\n",
       "      <td>Pence gives no specifics on why Trump Foundati...</td>\n",
       "      <td>Pence gives no specifics on why Trump Foundati...</td>\n",
       "      <td>Pence gives no specifics on why Trump Foundati...</td>\n",
       "      <td>pence give specifics trump foundation story in...</td>\n",
       "      <td>0</td>\n",
       "    </tr>\n",
       "    <tr>\n",
       "      <th>4</th>\n",
       "      <td>CHAOS! NC Protest MOB Ambushes Female Truck Dr...</td>\n",
       "      <td>CHAOS! NC Protest MOB Ambushes Female Truck Dr...</td>\n",
       "      <td>CHAOS! NC Protest MOB Ambushes Female Truck Dr...</td>\n",
       "      <td>chaos nc protest mob ambush female truck drive...</td>\n",
       "      <td>0</td>\n",
       "    </tr>\n",
       "  </tbody>\n",
       "</table>\n",
       "</div>"
      ],
      "text/plain": [
       "                                               title  \\\n",
       "0        Donald Trump's rise puts Ted Cruz in a bind   \n",
       "1                      Obama weighs in on the debate   \n",
       "2      Obama: Refugee crisis is test of our humanity   \n",
       "3  Pence gives no specifics on why Trump Foundati...   \n",
       "4  CHAOS! NC Protest MOB Ambushes Female Truck Dr...   \n",
       "\n",
       "                                                text  \\\n",
       "0  Story highlights Ted Cruz refused to endorse T...   \n",
       "1  Obama weighs in on the debate\\n\\nPresident Bar...   \n",
       "2  United Nations (CNN) President Barack Obama ma...   \n",
       "3  Pence gives no specifics on why Trump Foundati...   \n",
       "4  CHAOS! NC Protest MOB Ambushes Female Truck Dr...   \n",
       "\n",
       "                                       combined_text  \\\n",
       "0  Donald Trump's rise puts Ted Cruz in a bindSto...   \n",
       "1  Obama weighs in on the debateObama weighs in o...   \n",
       "2  Obama: Refugee crisis is test of our humanityU...   \n",
       "3  Pence gives no specifics on why Trump Foundati...   \n",
       "4  CHAOS! NC Protest MOB Ambushes Female Truck Dr...   \n",
       "\n",
       "                                             cleaned  label  \n",
       "0  donald trump rise put ted cruz bindstory highl...      0  \n",
       "1  obama weigh debateobama weigh debate president...      0  \n",
       "2  obama refugee crisis test humanityunited natio...      0  \n",
       "3  pence give specifics trump foundation story in...      0  \n",
       "4  chaos nc protest mob ambush female truck drive...      0  "
      ]
     },
     "execution_count": 39,
     "metadata": {},
     "output_type": "execute_result"
    }
   ],
   "source": [
    "FNN_df['cleaned']= FNN_df['combined_text'].apply (lambda x: process_text(x))\n",
    "\n",
    "# Rearranging columns\n",
    "\n",
    "column_names =  ['title','text', 'combined_text','cleaned','label']\n",
    "FNN_df = FNN_df.reindex(columns=column_names)\n",
    "\n",
    "\n",
    "FNN_df = shuffle(FNN_df)\n",
    "FNN_df = FNN_df.reset_index(drop=True)\n",
    "\n",
    "FNN_df.head()"
   ]
  },
  {
   "cell_type": "code",
   "execution_count": 40,
   "metadata": {},
   "outputs": [],
   "source": [
    "FNN_TestFeatures = FNN_df['cleaned']\n",
    "FNN_TestLabels =FNN_df['label']"
   ]
  },
  {
   "cell_type": "markdown",
   "metadata": {},
   "source": [
    "## 7.1 TFIDF "
   ]
  },
  {
   "cell_type": "markdown",
   "metadata": {},
   "source": [
    "### 1. Logistic Regression"
   ]
  },
  {
   "cell_type": "code",
   "execution_count": 41,
   "metadata": {},
   "outputs": [
    {
     "name": "stdout",
     "output_type": "stream",
     "text": [
      "Accuracy: 52.75%\n",
      "Precision: 0.8571428571428571\n",
      "Recall: 0.989010989010989\n",
      "Confusion Matrix \n",
      " [[ 6 85]\n",
      " [ 1 90]]\n",
      "              precision    recall  f1-score   support\n",
      "\n",
      "           0       0.86      0.07      0.12        91\n",
      "           1       0.51      0.99      0.68        91\n",
      "\n",
      "    accuracy                           0.53       182\n",
      "   macro avg       0.69      0.53      0.40       182\n",
      "weighted avg       0.69      0.53      0.40       182\n",
      "\n",
      "Confusion matrix, without normalization\n"
     ]
    },
    {
     "data": {
      "image/png": "[encoded data removed]",
      "text/plain": [
       "<Figure size 432x288 with 2 Axes>"
      ]
     },
     "metadata": {
      "needs_background": "light"
     },
     "output_type": "display_data"
    }
   ],
   "source": [
    "model = TFIDF_LRPipeline\n",
    "pred = model.predict(FNN_TestFeatures)\n",
    "\n",
    "# Evaluation Metrics\n",
    "cm = confusion_matrix (FNN_TestLabels, pred)\n",
    "print(\"Accuracy: {}%\".format(round(metrics.accuracy_score(FNN_TestLabels, pred)*100,2)))\n",
    "print(\"Precision:\", metrics.precision_score(FNN_TestLabels, pred, pos_label=0))\n",
    "print(\"Recall:\", metrics.recall_score(FNN_TestLabels, pred))\n",
    "\n",
    "\n",
    "print (\"Confusion Matrix \\n\", cm)\n",
    "print(classification_report(FNN_TestLabels, pred))\n",
    "plot_confusion_matrix(cm,classes=['FAKE(1)','TRUE(0)'])"
   ]
  },
  {
   "cell_type": "markdown",
   "metadata": {},
   "source": [
    "### 2. SVM"
   ]
  },
  {
   "cell_type": "code",
   "execution_count": 42,
   "metadata": {},
   "outputs": [
    {
     "name": "stdout",
     "output_type": "stream",
     "text": [
      "Accuracy: 52.75%\n",
      "Precision: 0.8571428571428571\n",
      "Recall: 0.989010989010989\n",
      "Confusion Matrix \n",
      " [[ 6 85]\n",
      " [ 1 90]]\n",
      "              precision    recall  f1-score   support\n",
      "\n",
      "           0       0.86      0.07      0.12        91\n",
      "           1       0.51      0.99      0.68        91\n",
      "\n",
      "    accuracy                           0.53       182\n",
      "   macro avg       0.69      0.53      0.40       182\n",
      "weighted avg       0.69      0.53      0.40       182\n",
      "\n",
      "Confusion matrix, without normalization\n"
     ]
    },
    {
     "data": {
      "image/png": "[encoded data removed]",
      "text/plain": [
       "<Figure size 432x288 with 2 Axes>"
      ]
     },
     "metadata": {
      "needs_background": "light"
     },
     "output_type": "display_data"
    }
   ],
   "source": [
    "model = TFIDF_SVCPipeline\n",
    "yPredict = model.predict(FNN_TestFeatures)\n",
    "\n",
    "cm = confusion_matrix (FNN_TestLabels, pred)\n",
    "print(\"Accuracy: {}%\".format(round(metrics.accuracy_score(FNN_TestLabels, pred)*100,2)))\n",
    "print(\"Precision:\", metrics.precision_score(FNN_TestLabels, pred, pos_label=0))\n",
    "print(\"Recall:\", metrics.recall_score(FNN_TestLabels, pred))\n",
    "\n",
    "print (\"Confusion Matrix \\n\", cm)\n",
    "print(classification_report(FNN_TestLabels, pred))\n",
    "plot_confusion_matrix(cm,classes=['FAKE(1)','TRUE(0)'])"
   ]
  },
  {
   "cell_type": "markdown",
   "metadata": {},
   "source": [
    "### 3. NB"
   ]
  },
  {
   "cell_type": "code",
   "execution_count": 43,
   "metadata": {
    "scrolled": true
   },
   "outputs": [
    {
     "name": "stdout",
     "output_type": "stream",
     "text": [
      "Accuracy: 53.3%\n",
      "Precision: 0.6875\n",
      "Recall: 0.945054945054945\n",
      "Confusion Matrix \n",
      " [[11 80]\n",
      " [ 5 86]]\n",
      "              precision    recall  f1-score   support\n",
      "\n",
      "           0       0.69      0.12      0.21        91\n",
      "           1       0.52      0.95      0.67        91\n",
      "\n",
      "    accuracy                           0.53       182\n",
      "   macro avg       0.60      0.53      0.44       182\n",
      "weighted avg       0.60      0.53      0.44       182\n",
      "\n",
      "Confusion matrix, without normalization\n"
     ]
    },
    {
     "data": {
      "image/png": "[encoded data removed]",
      "text/plain": [
       "<Figure size 432x288 with 2 Axes>"
      ]
     },
     "metadata": {
      "needs_background": "light"
     },
     "output_type": "display_data"
    }
   ],
   "source": [
    "model = TFIDF_NBPipeline\n",
    "pred = model.predict(FNN_TestFeatures)\n",
    "\n",
    "cm = confusion_matrix (FNN_TestLabels, pred)\n",
    "print(\"Accuracy: {}%\".format(round(metrics.accuracy_score(FNN_TestLabels, pred)*100,2)))\n",
    "print(\"Precision:\", metrics.precision_score(FNN_TestLabels, pred, pos_label=0))\n",
    "print(\"Recall:\", metrics.recall_score(FNN_TestLabels, pred))\n",
    "\n",
    "print (\"Confusion Matrix \\n\", cm)\n",
    "print(classification_report(FNN_TestLabels, pred))\n",
    "plot_confusion_matrix(cm,classes=['FAKE(1)','TRUE(0)'])"
   ]
  },
  {
   "cell_type": "markdown",
   "metadata": {},
   "source": [
    "## 7.2 Ngrams"
   ]
  },
  {
   "cell_type": "markdown",
   "metadata": {},
   "source": [
    "### 1. Logistic Regression"
   ]
  },
  {
   "cell_type": "code",
   "execution_count": 44,
   "metadata": {},
   "outputs": [
    {
     "name": "stdout",
     "output_type": "stream",
     "text": [
      "Accuracy: 57.14%\n",
      "Precision: 0.8823529411764706\n",
      "Recall: 0.978021978021978\n",
      "Confusion Matrix \n",
      " [[15 76]\n",
      " [ 2 89]]\n",
      "              precision    recall  f1-score   support\n",
      "\n",
      "           0       0.88      0.16      0.28        91\n",
      "           1       0.54      0.98      0.70        91\n",
      "\n",
      "    accuracy                           0.57       182\n",
      "   macro avg       0.71      0.57      0.49       182\n",
      "weighted avg       0.71      0.57      0.49       182\n",
      "\n",
      "Confusion matrix, without normalization\n"
     ]
    },
    {
     "data": {
      "image/png": "[encoded data removed]",
      "text/plain": [
       "<Figure size 432x288 with 2 Axes>"
      ]
     },
     "metadata": {
      "needs_background": "light"
     },
     "output_type": "display_data"
    }
   ],
   "source": [
    "model = NGRAM_LRPipeline\n",
    "\n",
    "pred = model.predict(FNN_TestFeatures)\n",
    "\n",
    "cm = confusion_matrix (FNN_TestLabels, pred)\n",
    "print(\"Accuracy: {}%\".format(round(metrics.accuracy_score(FNN_TestLabels, pred)*100,2)))\n",
    "print(\"Precision:\", metrics.precision_score(FNN_TestLabels, pred, pos_label=0))\n",
    "print(\"Recall:\", metrics.recall_score(FNN_TestLabels, pred))\n",
    "\n",
    "\n",
    "print (\"Confusion Matrix \\n\", cm)\n",
    "print(classification_report(FNN_TestLabels, pred))\n",
    "plot_confusion_matrix(cm,classes=['FAKE(1)','TRUE(0)'])"
   ]
  },
  {
   "cell_type": "markdown",
   "metadata": {},
   "source": [
    "### 2. SVM"
   ]
  },
  {
   "cell_type": "code",
   "execution_count": 45,
   "metadata": {},
   "outputs": [
    {
     "name": "stdout",
     "output_type": "stream",
     "text": [
      "Accuracy: 56.59%\n",
      "Precision: 0.9285714285714286\n",
      "Recall: 0.989010989010989\n",
      "Confusion Matrix \n",
      " [[13 78]\n",
      " [ 1 90]]\n",
      "              precision    recall  f1-score   support\n",
      "\n",
      "           0       0.93      0.14      0.25        91\n",
      "           1       0.54      0.99      0.69        91\n",
      "\n",
      "    accuracy                           0.57       182\n",
      "   macro avg       0.73      0.57      0.47       182\n",
      "weighted avg       0.73      0.57      0.47       182\n",
      "\n",
      "Confusion matrix, without normalization\n"
     ]
    },
    {
     "data": {
      "image/png": "[encoded data removed]",
      "text/plain": [
       "<Figure size 432x288 with 2 Axes>"
      ]
     },
     "metadata": {
      "needs_background": "light"
     },
     "output_type": "display_data"
    }
   ],
   "source": [
    "model = NGRAM_SVMPipeline\n",
    "pred = model.predict(FNN_TestFeatures)\n",
    "\n",
    "cm = confusion_matrix (FNN_TestLabels, pred)\n",
    "print(\"Accuracy: {}%\".format(round(metrics.accuracy_score(FNN_TestLabels, pred)*100,2)))\n",
    "print(\"Precision:\", metrics.precision_score(FNN_TestLabels, pred, pos_label=0))\n",
    "print(\"Recall:\", metrics.recall_score(FNN_TestLabels, pred))\n",
    "\n",
    "\n",
    "print (\"Confusion Matrix \\n\", cm)\n",
    "print(classification_report(FNN_TestLabels, pred))\n",
    "plot_confusion_matrix(cm,classes=['FAKE(1)','TRUE(0)'])"
   ]
  },
  {
   "cell_type": "markdown",
   "metadata": {},
   "source": [
    "### 3. NB"
   ]
  },
  {
   "cell_type": "code",
   "execution_count": 46,
   "metadata": {},
   "outputs": [
    {
     "name": "stdout",
     "output_type": "stream",
     "text": [
      "Accuracy: 54.4%\n",
      "Precision: 0.7\n",
      "Recall: 0.9340659340659341\n",
      "Confusion Matrix \n",
      " [[14 77]\n",
      " [ 6 85]]\n",
      "              precision    recall  f1-score   support\n",
      "\n",
      "           0       0.70      0.15      0.25        91\n",
      "           1       0.52      0.93      0.67        91\n",
      "\n",
      "    accuracy                           0.54       182\n",
      "   macro avg       0.61      0.54      0.46       182\n",
      "weighted avg       0.61      0.54      0.46       182\n",
      "\n",
      "Confusion matrix, without normalization\n"
     ]
    },
    {
     "data": {
      "image/png": "[encoded data removed]",
      "text/plain": [
       "<Figure size 432x288 with 2 Axes>"
      ]
     },
     "metadata": {
      "needs_background": "light"
     },
     "output_type": "display_data"
    }
   ],
   "source": [
    "model = NGRAM_NBPipeline\n",
    "pred = model.predict(FNN_TestFeatures)\n",
    "\n",
    "cm = confusion_matrix (FNN_TestLabels, pred)\n",
    "print(\"Accuracy: {}%\".format(round(metrics.accuracy_score(FNN_TestLabels, pred)*100,2)))\n",
    "print(\"Precision:\", metrics.precision_score(FNN_TestLabels, pred, pos_label=0))\n",
    "print(\"Recall:\", metrics.recall_score(FNN_TestLabels, pred))\n",
    "\n",
    "\n",
    "print (\"Confusion Matrix \\n\", cm)\n",
    "print(classification_report(FNN_TestLabels, pred))\n",
    "plot_confusion_matrix(cm,classes=['FAKE(1)','TRUE(0)'])"
   ]
  },
  {
   "cell_type": "markdown",
   "metadata": {},
   "source": [
    "## 7.3 POS Tags"
   ]
  },
  {
   "cell_type": "markdown",
   "metadata": {},
   "source": [
    "### 1. Logistic Regression"
   ]
  },
  {
   "cell_type": "code",
   "execution_count": 47,
   "metadata": {},
   "outputs": [
    {
     "name": "stdout",
     "output_type": "stream",
     "text": [
      "Accuracy: 50.0%\n",
      "Precision: 0.0\n",
      "Recall: 1.0\n",
      "Confusion Matrix \n",
      " [[ 0 91]\n",
      " [ 0 91]]\n",
      "              precision    recall  f1-score   support\n",
      "\n",
      "           0       0.00      0.00      0.00        91\n",
      "           1       0.50      1.00      0.67        91\n",
      "\n",
      "    accuracy                           0.50       182\n",
      "   macro avg       0.25      0.50      0.33       182\n",
      "weighted avg       0.25      0.50      0.33       182\n",
      "\n",
      "Confusion matrix, without normalization\n"
     ]
    },
    {
     "name": "stderr",
     "output_type": "stream",
     "text": [
      "C:\\ProgramData\\Anaconda3\\lib\\site-packages\\sklearn\\metrics\\_classification.py:1221: UndefinedMetricWarning: Precision is ill-defined and being set to 0.0 due to no predicted samples. Use `zero_division` parameter to control this behavior.\n",
      "  _warn_prf(average, modifier, msg_start, len(result))\n",
      "C:\\ProgramData\\Anaconda3\\lib\\site-packages\\sklearn\\metrics\\_classification.py:1221: UndefinedMetricWarning: Precision and F-score are ill-defined and being set to 0.0 in labels with no predicted samples. Use `zero_division` parameter to control this behavior.\n",
      "  _warn_prf(average, modifier, msg_start, len(result))\n"
     ]
    },
    {
     "data": {
      "image/png": "[encoded data removed]",
      "text/plain": [
       "<Figure size 432x288 with 2 Axes>"
      ]
     },
     "metadata": {
      "needs_background": "light"
     },
     "output_type": "display_data"
    }
   ],
   "source": [
    "model = POS_LRPipeline\n",
    "pred = model.predict(FNN_TestFeatures)\n",
    "\n",
    "cm = confusion_matrix (FNN_TestLabels, pred)\n",
    "print(\"Accuracy: {}%\".format(round(metrics.accuracy_score(FNN_TestLabels, pred)*100,2)))\n",
    "print(\"Precision:\", metrics.precision_score(FNN_TestLabels, pred, pos_label=0))\n",
    "print(\"Recall:\", metrics.recall_score(FNN_TestLabels, pred))\n",
    "\n",
    "\n",
    "print (\"Confusion Matrix \\n\", cm)\n",
    "print(classification_report(FNN_TestLabels, pred))\n",
    "plot_confusion_matrix(cm,classes=['FAKE(1)','TRUE(0)'])"
   ]
  },
  {
   "cell_type": "markdown",
   "metadata": {},
   "source": [
    "### 2. SVM"
   ]
  },
  {
   "cell_type": "code",
   "execution_count": 48,
   "metadata": {},
   "outputs": [
    {
     "name": "stdout",
     "output_type": "stream",
     "text": [
      "Accuracy: 50.0%\n",
      "Precision: 0.0\n",
      "Recall: 1.0\n",
      "Confusion Matrix \n",
      " [[ 0 91]\n",
      " [ 0 91]]\n",
      "              precision    recall  f1-score   support\n",
      "\n",
      "           0       0.00      0.00      0.00        91\n",
      "           1       0.50      1.00      0.67        91\n",
      "\n",
      "    accuracy                           0.50       182\n",
      "   macro avg       0.25      0.50      0.33       182\n",
      "weighted avg       0.25      0.50      0.33       182\n",
      "\n",
      "Confusion matrix, without normalization\n"
     ]
    },
    {
     "name": "stderr",
     "output_type": "stream",
     "text": [
      "C:\\ProgramData\\Anaconda3\\lib\\site-packages\\sklearn\\metrics\\_classification.py:1221: UndefinedMetricWarning: Precision is ill-defined and being set to 0.0 due to no predicted samples. Use `zero_division` parameter to control this behavior.\n",
      "  _warn_prf(average, modifier, msg_start, len(result))\n",
      "C:\\ProgramData\\Anaconda3\\lib\\site-packages\\sklearn\\metrics\\_classification.py:1221: UndefinedMetricWarning: Precision and F-score are ill-defined and being set to 0.0 in labels with no predicted samples. Use `zero_division` parameter to control this behavior.\n",
      "  _warn_prf(average, modifier, msg_start, len(result))\n"
     ]
    },
    {
     "data": {
      "image/png": "[encoded data removed]",
      "text/plain": [
       "<Figure size 432x288 with 2 Axes>"
      ]
     },
     "metadata": {
      "needs_background": "light"
     },
     "output_type": "display_data"
    }
   ],
   "source": [
    "model = POS_SVMPipeline\n",
    "pred = model.predict(FNN_TestFeatures)\n",
    "\n",
    "cm = confusion_matrix (FNN_TestLabels, pred)\n",
    "print(\"Accuracy: {}%\".format(round(metrics.accuracy_score(FNN_TestLabels, pred)*100,2)))\n",
    "print(\"Precision:\", metrics.precision_score(FNN_TestLabels, pred, pos_label=0))\n",
    "print(\"Recall:\", metrics.recall_score(FNN_TestLabels, pred))\n",
    "\n",
    "\n",
    "print (\"Confusion Matrix \\n\", cm)\n",
    "print(classification_report(FNN_TestLabels, pred))\n",
    "plot_confusion_matrix(cm,classes=['FAKE(1)','TRUE(0)'])"
   ]
  },
  {
   "cell_type": "markdown",
   "metadata": {},
   "source": [
    "### 3. NB"
   ]
  },
  {
   "cell_type": "code",
   "execution_count": 49,
   "metadata": {},
   "outputs": [
    {
     "name": "stdout",
     "output_type": "stream",
     "text": [
      "Accuracy: 53.3%\n",
      "Precision: 0.6875\n",
      "Recall: 0.945054945054945\n",
      "Confusion Matrix \n",
      " [[11 80]\n",
      " [ 5 86]]\n",
      "              precision    recall  f1-score   support\n",
      "\n",
      "           0       0.69      0.12      0.21        91\n",
      "           1       0.52      0.95      0.67        91\n",
      "\n",
      "    accuracy                           0.53       182\n",
      "   macro avg       0.60      0.53      0.44       182\n",
      "weighted avg       0.60      0.53      0.44       182\n",
      "\n",
      "Confusion matrix, without normalization\n"
     ]
    },
    {
     "data": {
      "image/png": "[encoded data removed]",
      "text/plain": [
       "<Figure size 432x288 with 2 Axes>"
      ]
     },
     "metadata": {
      "needs_background": "light"
     },
     "output_type": "display_data"
    }
   ],
   "source": [
    "model = POS_NBPipeline\n",
    "pred = model.predict(FNN_TestFeatures)\n",
    "\n",
    "cm = confusion_matrix (FNN_TestLabels, pred)\n",
    "print(\"Accuracy: {}%\".format(round(metrics.accuracy_score(FNN_TestLabels, pred)*100,2)))\n",
    "print(\"Precision:\", metrics.precision_score(FNN_TestLabels, pred, pos_label=0))\n",
    "print(\"Recall:\", metrics.recall_score(FNN_TestLabels, pred))\n",
    "\n",
    "\n",
    "print (\"Confusion Matrix \\n\", cm)\n",
    "print(classification_report(FNN_TestLabels, pred))\n",
    "plot_confusion_matrix(cm,classes=['FAKE(1)','TRUE(0)'])"
   ]
  },
  {
   "cell_type": "markdown",
   "metadata": {},
   "source": [
    "## 8. Combining Features"
   ]
  },
  {
   "cell_type": "code",
   "execution_count": 50,
   "metadata": {},
   "outputs": [
    {
     "name": "stdout",
     "output_type": "stream",
     "text": [
      "(35918,) (8980,) (35918,) (8980,)\n"
     ]
    }
   ],
   "source": [
    "x = df.tokenized\n",
    "y = df.label\n",
    "\n",
    "x2Train,x2Test,y2Train,y2Test = train_test_split(x, y, test_size = 0.2, random_state = 42)\n",
    "\n",
    "print(xTrain.shape, xTest.shape, yTrain.shape, yTest.shape)"
   ]
  },
  {
   "cell_type": "code",
   "execution_count": 58,
   "metadata": {},
   "outputs": [
    {
     "name": "stdout",
     "output_type": "stream",
     "text": [
      "Accuracy: 99.45%\n",
      "Precision: 0.9936500470366886\n",
      "Recall: 0.9942953729135855\n",
      "Confusion Matrix \n",
      " [[4225   22]\n",
      " [  27 4706]]\n",
      "              precision    recall  f1-score   support\n",
      "\n",
      "           0       0.99      0.99      0.99      4247\n",
      "           1       1.00      0.99      0.99      4733\n",
      "\n",
      "    accuracy                           0.99      8980\n",
      "   macro avg       0.99      0.99      0.99      8980\n",
      "weighted avg       0.99      0.99      0.99      8980\n",
      "\n",
      "Confusion matrix, without normalization\n"
     ]
    },
    {
     "data": {
      "image/png": "[encoded data removed]",
      "text/plain": [
       "<Figure size 432x288 with 2 Axes>"
      ]
     },
     "metadata": {
      "needs_background": "light"
     },
     "output_type": "display_data"
    }
   ],
   "source": [
    "LRmodel = Pipeline([\n",
    "    ('vect', CountVectorizer()),\n",
    "    ('tfidf', TfidfTransformer()),\n",
    "    ('clf', LinearSVC())\n",
    "])\n",
    "                          \n",
    "model = LRmodel.fit(x2Train, y2Train)\n",
    "yPredict = model.predict(x2Test)\n",
    "\n",
    "# Evaluation Metrics\n",
    "cm = confusion_matrix (y2Test, yPredict)\n",
    "print(\"Accuracy: {}%\".format(round(metrics.accuracy_score(y2Test, yPredict)*100,2)))\n",
    "print(\"Precision:\", metrics.precision_score(y2Test, yPredict, pos_label=0))\n",
    "print(\"Recall:\", metrics.recall_score(y2Test, yPredict))\n",
    "\n",
    "\n",
    "print (\"Confusion Matrix \\n\", cm)\n",
    "print(classification_report(y2Test, yPredict))\n",
    "plot_confusion_matrix(cm,classes=['FAKE(1)','TRUE(0)'])"
   ]
  },
  {
   "cell_type": "code",
   "execution_count": 62,
   "metadata": {},
   "outputs": [
    {
     "name": "stdout",
     "output_type": "stream",
     "text": [
      "Accuracy: 99.65%\n",
      "Precision: 0.996\n",
      "Recall: 0.9964081977604057\n",
      "Confusion Matrix \n",
      " [[4233   14]\n",
      " [  17 4716]]\n",
      "              precision    recall  f1-score   support\n",
      "\n",
      "           0       1.00      1.00      1.00      4247\n",
      "           1       1.00      1.00      1.00      4733\n",
      "\n",
      "    accuracy                           1.00      8980\n",
      "   macro avg       1.00      1.00      1.00      8980\n",
      "weighted avg       1.00      1.00      1.00      8980\n",
      "\n",
      "Confusion matrix, without normalization\n"
     ]
    },
    {
     "data": {
      "image/png": "[encoded data removed]",
      "text/plain": [
       "<Figure size 432x288 with 2 Axes>"
      ]
     },
     "metadata": {
      "needs_background": "light"
     },
     "output_type": "display_data"
    }
   ],
   "source": [
    "abc = Pipeline([('vect', CountVectorizer()),\n",
    "                 ('clf', LinearSVC(max_iter = 5000))])\n",
    "               \n",
    "model = abc.fit(x2Train, y2Train)\n",
    "yPredict = model.predict(x2Test)\n",
    "\n",
    "cm = confusion_matrix (y2Test, yPredict)\n",
    "print(\"Accuracy: {}%\".format(round(metrics.accuracy_score(y2Test, yPredict)*100,2)))\n",
    "print(\"Precision:\", metrics.precision_score(y2Test, yPredict, pos_label=0))\n",
    "print(\"Recall:\", metrics.recall_score(y2Test, yPredict))\n",
    "\n",
    "print (\"Confusion Matrix \\n\", cm)\n",
    "print(classification_report(yTest, yPredict))\n",
    "plot_confusion_matrix(cm,classes=['FAKE(1)','TRUE(0)'])"
   ]
  },
  {
   "cell_type": "code",
   "execution_count": 64,
   "metadata": {},
   "outputs": [
    {
     "name": "stdout",
     "output_type": "stream",
     "text": [
      "Accuracy: 95.21%\n",
      "Precision: 0.944768119319506\n",
      "Recall: 0.9499260511303613\n",
      "Confusion Matrix \n",
      " [[4054  193]\n",
      " [ 237 4496]]\n",
      "              precision    recall  f1-score   support\n",
      "\n",
      "           0       0.94      0.95      0.95      4247\n",
      "           1       0.96      0.95      0.95      4733\n",
      "\n",
      "    accuracy                           0.95      8980\n",
      "   macro avg       0.95      0.95      0.95      8980\n",
      "weighted avg       0.95      0.95      0.95      8980\n",
      "\n",
      "Confusion matrix, without normalization\n"
     ]
    },
    {
     "data": {
      "image/png": "[encoded data removed]",
      "text/plain": [
       "<Figure size 432x288 with 2 Axes>"
      ]
     },
     "metadata": {
      "needs_background": "light"
     },
     "output_type": "display_data"
    }
   ],
   "source": [
    "dca = Pipeline([('vect', CountVectorizer()),\n",
    "                 ('clf', MultinomialNB())])\n",
    "\n",
    "model = dca.fit(x2Train, y2Train)\n",
    "yPredict = model.predict(x2Test)\n",
    "\n",
    "cm = confusion_matrix (y2Test, yPredict)\n",
    "print(\"Accuracy: {}%\".format(round(metrics.accuracy_score(y2Test, yPredict)*100,2)))\n",
    "print(\"Precision:\", metrics.precision_score(y2Test, yPredict, pos_label=0))\n",
    "print(\"Recall:\", metrics.recall_score(y2Test, yPredict))\n",
    "\n",
    "print (\"Confusion Matrix \\n\", cm)\n",
    "print(classification_report(y2Test, yPredict))\n",
    "plot_confusion_matrix(cm,classes=['FAKE(1)','TRUE(0)'])"
   ]
  }
 ],
 "metadata": {
  "kernelspec": {
   "display_name": "Python 3",
   "language": "python",
   "name": "python3"
  },
  "language_info": {
   "codemirror_mode": {
    "name": "ipython",
    "version": 3
   },
   "file_extension": ".py",
   "mimetype": "text/x-python",
   "name": "python",
   "nbconvert_exporter": "python",
   "pygments_lexer": "ipython3",
   "version": "3.7.6"
  }
 },
 "nbformat": 4,
 "nbformat_minor": 4
}
